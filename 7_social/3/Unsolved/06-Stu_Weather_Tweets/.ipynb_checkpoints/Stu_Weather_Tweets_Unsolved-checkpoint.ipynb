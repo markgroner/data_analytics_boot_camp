{
 "cells": [
  {
   "cell_type": "code",
   "execution_count": 1,
   "metadata": {},
   "outputs": [],
   "source": [
    "# Dependencies\n",
    "import tweepy\n",
    "import time\n",
    "import requests\n",
    "import datetime\n",
    "import json\n",
    "\n",
    "# API Keys\n",
    "from config import twitter_keys\n",
    "consumer_key = twitter_keys['consumer_key']\n",
    "consumer_secret = twitter_keys['consumer_secret']\n",
    "access_token = twitter_keys['access_token']\n",
    "access_token_secret = twitter_keys['access_token_secret']\n",
    "from config import weather_key\n",
    "\n",
    "# Setup Tweepy API Authentication\n",
    "auth = tweepy.OAuthHandler(consumer_key, consumer_secret)\n",
    "auth.set_access_token(access_token, access_token_secret)\n",
    "api = tweepy.API(auth, parser=tweepy.parsers.JSONParser())"
   ]
  },
  {
   "cell_type": "code",
   "execution_count": null,
   "metadata": {},
   "outputs": [],
   "source": [
    "# Create a function that gets the weather in London and Tweets it\n",
    "def weather_tweet():\n",
    "    city_name = 'London'\n",
    "    # Construct a Query URL for the OpenWeatherMap\n",
    "    url = \"http://api.openweathermap.org/data/2.5/weather\"\n",
    "    units = 'metric'\n",
    "    fahrenheit = 'imperial'\n",
    "    params = {'APPID': weather_key,\n",
    "             'q': city_name,\n",
    "             'units': units}\n",
    "\n",
    "    \n",
    "    # Perform the API call to get the weather\n",
    "    response = requests.get(url, params=params)\n",
    "    data_json = response.json()\n",
    "    temp = data_json['main']['temp']\n",
    "    \n",
    "    \n",
    "    \n",
    "    # Print success message\n",
    "    # Tweet the weather\n",
    "    current_datetime = datetime.datetime.now().strftime(\"%I:%M %p\")\n",
    "    tweet_string = f'Current time is {current_datetime} and it is {temp} °F in {city_name}!'\n",
    "\n",
    "    print(tweet_string)\n",
    "    api.update_status(tweet_string)\n",
    "    \n",
    "    # Print success message\n",
    "    print(\"Tweeted successfully, sir!\")"
   ]
  },
  {
   "cell_type": "code",
   "execution_count": null,
   "metadata": {},
   "outputs": [
    {
     "name": "stdout",
     "output_type": "stream",
     "text": [
      "Current time is 12:00 PM and it is 7.92 °F in London!\n",
      "Tweeted successfully, sir!\n"
     ]
    }
   ],
   "source": [
    "# Set timer to run every 1 hour for 24 hours\n",
    "for x in range(24):\n",
    "    weather_tweet()\n",
    "    time.sleep(3600)"
   ]
  },
  {
   "cell_type": "code",
   "execution_count": null,
   "metadata": {
    "collapsed": true
   },
   "outputs": [],
   "source": []
  }
 ],
 "metadata": {
  "kernelspec": {
   "display_name": "Python 3",
   "language": "python",
   "name": "python3"
  },
  "language_info": {
   "codemirror_mode": {
    "name": "ipython",
    "version": 3
   },
   "file_extension": ".py",
   "mimetype": "text/x-python",
   "name": "python",
   "nbconvert_exporter": "python",
   "pygments_lexer": "ipython3",
   "version": "3.6.2"
  },
  "varInspector": {
   "cols": {
    "lenName": 16,
    "lenType": 16,
    "lenVar": 40
   },
   "kernels_config": {
    "python": {
     "delete_cmd_postfix": "",
     "delete_cmd_prefix": "del ",
     "library": "var_list.py",
     "varRefreshCmd": "print(var_dic_list())"
    },
    "r": {
     "delete_cmd_postfix": ") ",
     "delete_cmd_prefix": "rm(",
     "library": "var_list.r",
     "varRefreshCmd": "cat(var_dic_list()) "
    }
   },
   "types_to_exclude": [
    "module",
    "function",
    "builtin_function_or_method",
    "instance",
    "_Feature"
   ],
   "window_display": false
  }
 },
 "nbformat": 4,
 "nbformat_minor": 2
}
