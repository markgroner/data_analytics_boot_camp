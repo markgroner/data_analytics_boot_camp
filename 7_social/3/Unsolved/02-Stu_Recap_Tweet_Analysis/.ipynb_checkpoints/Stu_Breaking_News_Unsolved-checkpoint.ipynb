{
 "cells": [
  {
   "cell_type": "code",
   "execution_count": 16,
   "metadata": {
    "collapsed": true
   },
   "outputs": [],
   "source": [
    "# Dependencies\n",
    "import tweepy\n",
    "import numpy as np\n",
    "import json\n",
    "# Import and Initialize Sentiment Analyzer\n",
    "from vaderSentiment.vaderSentiment import SentimentIntensityAnalyzer\n",
    "analyzer = SentimentIntensityAnalyzer()\n",
    "\n",
    "# Twitter API Keys\n",
    "from config import twitter_keys\n",
    "consumer_key = twitter_keys['consumer_key']\n",
    "consumer_secret = twitter_keys['consumer_secret']\n",
    "access_token = twitter_keys['access_token']\n",
    "access_token_secret = twitter_keys['access_token_secret']\n",
    "\n",
    "# Setup Tweepy API Authentication\n",
    "auth = tweepy.OAuthHandler(consumer_key, consumer_secret)\n",
    "auth.set_access_token(access_token, access_token_secret)\n",
    "api = tweepy.API(auth, parser=tweepy.parsers.JSONParser())"
   ]
  },
  {
   "cell_type": "code",
   "execution_count": 40,
   "metadata": {},
   "outputs": [],
   "source": [
    "# Target Search Term\n",
    "target_term = 'CNNbrk'\n",
    "\n",
    "# Lists to hold sentiments\n",
    "compound_list = []\n",
    "positive_list = []\n",
    "negative_list = []\n",
    "neutral_list = []\n",
    "# Grab 25 tweets\n",
    "public_tweets = api.search(target_term, count=25)['statuses']\n",
    "# Loop through all tweets\n",
    "for tweet in public_tweets:\n",
    "    tweet_text = tweet['text']\n",
    "    # Run Vader Analysis on each tweet\n",
    "    sentiment = analyzer.polarity_scores(tweet_text)\n",
    "    # Add each value to the appropriate list\n",
    "    negative_list.append(sentiment['neg'])\n",
    "    neutral_list.append(sentiment['neu'])\n",
    "    positive_list.append(sentiment['pos'])\n",
    "    compound_list.append(sentiment['compound'])\n"
   ]
  },
  {
   "cell_type": "code",
   "execution_count": 44,
   "metadata": {},
   "outputs": [
    {
     "name": "stdout",
     "output_type": "stream",
     "text": [
      "Term: CNNbrk\n",
      "Compound: -0.244\n",
      "Positive: 0.034\n",
      "Neutral: 0.857\n",
      "Negative: 0.109\n"
     ]
    }
   ],
   "source": [
    "# Print the Averages\n",
    "print(f'Term: {target_term}')\n",
    "print(f'Compound: {np.mean(compound_list):.3f}')\n",
    "print(f'Positive: {np.mean(positive_list):.3f}')\n",
    "print(f'Neutral: {np.mean(neutral_list):.3f}')\n",
    "print(f'Negative: {np.mean(negative_list):.3f}')"
   ]
  },
  {
   "cell_type": "code",
   "execution_count": null,
   "metadata": {
    "collapsed": true
   },
   "outputs": [],
   "source": []
  }
 ],
 "metadata": {
  "kernelspec": {
   "display_name": "Python 3",
   "language": "python",
   "name": "python3"
  },
  "language_info": {
   "codemirror_mode": {
    "name": "ipython",
    "version": 3
   },
   "file_extension": ".py",
   "mimetype": "text/x-python",
   "name": "python",
   "nbconvert_exporter": "python",
   "pygments_lexer": "ipython3",
   "version": "3.6.2"
  },
  "varInspector": {
   "cols": {
    "lenName": 16,
    "lenType": 16,
    "lenVar": 40
   },
   "kernels_config": {
    "python": {
     "delete_cmd_postfix": "",
     "delete_cmd_prefix": "del ",
     "library": "var_list.py",
     "varRefreshCmd": "print(var_dic_list())"
    },
    "r": {
     "delete_cmd_postfix": ") ",
     "delete_cmd_prefix": "rm(",
     "library": "var_list.r",
     "varRefreshCmd": "cat(var_dic_list()) "
    }
   },
   "types_to_exclude": [
    "module",
    "function",
    "builtin_function_or_method",
    "instance",
    "_Feature"
   ],
   "window_display": false
  }
 },
 "nbformat": 4,
 "nbformat_minor": 2
}
