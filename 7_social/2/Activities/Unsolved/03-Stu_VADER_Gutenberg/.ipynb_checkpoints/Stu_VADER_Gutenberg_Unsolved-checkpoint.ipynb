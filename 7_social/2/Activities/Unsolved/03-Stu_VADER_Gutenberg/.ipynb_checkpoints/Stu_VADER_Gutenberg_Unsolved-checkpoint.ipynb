{
 "cells": [
  {
   "cell_type": "code",
   "execution_count": 2,
   "metadata": {
    "collapsed": true
   },
   "outputs": [],
   "source": [
    "# Import and Initialize Sentiment Analyzer\n",
    "from vaderSentiment.vaderSentiment import SentimentIntensityAnalyzer\n",
    "analyzer = SentimentIntensityAnalyzer()"
   ]
  },
  {
   "cell_type": "code",
   "execution_count": 10,
   "metadata": {
    "collapsed": true
   },
   "outputs": [],
   "source": [
    "# Placeholder for sample text\n",
    "sample1 = \"\"\n",
    "sample2 = \"\"\n",
    "sample3 = \"\"\n",
    "\n",
    "# Open each of the sample files, read the text,\n",
    "# and assign it to the variables above\n",
    "with open('Sample1.txt') as sample:\n",
    "    sample1 = sample.read()\n",
    "with open('Sample2.txt') as sample:\n",
    "    sample2 = sample.read()\n",
    "with open('Sample3.txt') as sample:\n",
    "    sample3 = sample.read()\n",
    "\n",
    "# Create a tuple of the samples\n",
    "samples = (sample1, sample2, sample3)"
   ]
  },
  {
   "cell_type": "code",
   "execution_count": 11,
   "metadata": {},
   "outputs": [
    {
     "name": "stdout",
     "output_type": "stream",
     "text": [
      "{'neg': 0.119, 'neu': 0.825, 'pos': 0.056, 'compound': -0.7096}\n",
      "{'neg': 0.0, 'neu': 0.601, 'pos': 0.399, 'compound': 0.9231}\n",
      "{'neg': 0.123, 'neu': 0.778, 'pos': 0.099, 'compound': -0.0387}\n"
     ]
    }
   ],
   "source": [
    "# Run Vader Sentiment Analysis on Each of the Samples\n",
    "# Loop through each sample and print the scores\n",
    "for sample in samples:\n",
    "    sentiment = analyzer.polarity_scores(sample)\n",
    "    print(sentiment)"
   ]
  },
  {
   "cell_type": "code",
   "execution_count": null,
   "metadata": {
    "collapsed": true
   },
   "outputs": [],
   "source": []
  }
 ],
 "metadata": {
  "kernelspec": {
   "display_name": "Python 3",
   "language": "python",
   "name": "python3"
  },
  "language_info": {
   "codemirror_mode": {
    "name": "ipython",
    "version": 3
   },
   "file_extension": ".py",
   "mimetype": "text/x-python",
   "name": "python",
   "nbconvert_exporter": "python",
   "pygments_lexer": "ipython3",
   "version": "3.6.2"
  },
  "varInspector": {
   "cols": {
    "lenName": 16,
    "lenType": 16,
    "lenVar": 40
   },
   "kernels_config": {
    "python": {
     "delete_cmd_postfix": "",
     "delete_cmd_prefix": "del ",
     "library": "var_list.py",
     "varRefreshCmd": "print(var_dic_list())"
    },
    "r": {
     "delete_cmd_postfix": ") ",
     "delete_cmd_prefix": "rm(",
     "library": "var_list.r",
     "varRefreshCmd": "cat(var_dic_list()) "
    }
   },
   "types_to_exclude": [
    "module",
    "function",
    "builtin_function_or_method",
    "instance",
    "_Feature"
   ],
   "window_display": false
  }
 },
 "nbformat": 4,
 "nbformat_minor": 2
}
