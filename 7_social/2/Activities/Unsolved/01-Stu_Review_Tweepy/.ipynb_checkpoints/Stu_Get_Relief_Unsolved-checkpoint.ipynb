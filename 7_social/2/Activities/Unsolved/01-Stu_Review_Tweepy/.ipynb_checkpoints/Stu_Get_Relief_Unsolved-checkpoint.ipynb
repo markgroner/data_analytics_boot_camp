{
 "cells": [
  {
   "cell_type": "code",
   "execution_count": 17,
   "metadata": {
    "collapsed": true
   },
   "outputs": [],
   "source": [
    "# Dependencies\n",
    "import tweepy\n",
    "import json\n",
    "from config import twitter_keys\n",
    "consumer_key = twitter_keys['consumer_key']\n",
    "consumer_secret = twitter_keys['consumer_secret']\n",
    "access_token = twitter_keys['access_token']\n",
    "access_token_secret = twitter_keys['access_token_secret']\n",
    "# Setup Tweepy API Authentication\n",
    "auth = tweepy.OAuthHandler(consumer_key, consumer_secret)\n",
    "auth.set_access_token(access_token, access_token_secret)\n",
    "api = tweepy.API(auth, parser=tweepy.parsers.JSONParser())"
   ]
  },
  {
   "cell_type": "code",
   "execution_count": 19,
   "metadata": {},
   "outputs": [
    {
     "name": "stdout",
     "output_type": "stream",
     "text": [
      "Learn How To Manage Daily Stress With This Useful Advice - https://t.co/CpXnMEacmn\n",
      "Learn How To Manage Daily Stress With This Useful Advice - https://t.co/CpXnMDSBuP\n",
      "Learn How To Manage Daily Stress With This Useful Advice - https://t.co/CpXnMDSBuP\n",
      "Learn How To Manage Daily Stress With This Useful Advice - https://t.co/CpXnMDSBuP\n",
      "Learn How To Manage Daily Stress With This Useful Advice - https://t.co/CpXnMDSBuP\n",
      "Learn How To Manage Daily Stress With This Useful Advice - https://t.co/CpXnMDSBuP\n",
      "Learn How To Manage Daily Stress With This Useful Advice - https://t.co/CpXnMDSBuP\n",
      "Learn How To Manage Daily Stress With This Useful Advice - https://t.co/CpXnMDSBuP\n",
      "Learn How To Manage Daily Stress With This Useful Advice - https://t.co/CpXnMEacmn\n",
      "Learn How To Manage Daily Stress With This Useful Advice - https://t.co/CpXnMDSBuP\n",
      "What Are The Symptoms And Signs Of Out Of Control Stress? - https://t.co/tS60pnkMpi\n",
      "Stress And How It Affects Your Body - https://t.co/DpVY52iPGR\n",
      "Tips On Reducing Stress To Prevent Those Wrinkles - https://t.co/m1BPy7tviB\n",
      "Handle Stress Now With These Easy Tips - https://t.co/LS2evUbLtf\n",
      "Having Trouble With Stress Then Try These Tips - https://t.co/UkHHNJERKs\n",
      "Learn To Manage Stress With These Tips - https://t.co/fBSJPn1L6P\n",
      "Use The Following Tips For Stress-Relief - https://t.co/jCLiJfGvIb\n",
      "Want To Eliminate Your Stress? Keep Reading - https://t.co/rPXqTtuoo3\n",
      "Don't Let Stress Consume Your Life - https://t.co/VMKUPVVTk5\n",
      "How To Deal With Stress The Right Way - https://t.co/r7qsSLt1Ar\n",
      "Learn How To Manage Daily Stress With This Useful Advice - https://t.co/CpXnMEacmn\n",
      "Learn How To Manage Daily Stress With This Useful Advice - https://t.co/CpXnMDSBuP\n",
      "Learn How To Manage Daily Stress With This Useful Advice - https://t.co/CpXnMDSBuP\n",
      "Learn How To Manage Daily Stress With This Useful Advice - https://t.co/CpXnMDSBuP\n",
      "Learn How To Manage Daily Stress With This Useful Advice - https://t.co/CpXnMDSBuP\n",
      "Learn How To Manage Daily Stress With This Useful Advice - https://t.co/CpXnMDSBuP\n",
      "Learn How To Manage Daily Stress With This Useful Advice - https://t.co/CpXnMDSBuP\n",
      "Learn How To Manage Daily Stress With This Useful Advice - https://t.co/CpXnMDSBuP\n",
      "Learn How To Manage Daily Stress With This Useful Advice - https://t.co/CpXnMEacmn\n",
      "Learn How To Manage Daily Stress With This Useful Advice - https://t.co/CpXnMDSBuP\n",
      "What Are The Symptoms And Signs Of Out Of Control Stress? - https://t.co/tS60pnkMpi\n",
      "Stress And How It Affects Your Body - https://t.co/DpVY52iPGR\n",
      "Tips On Reducing Stress To Prevent Those Wrinkles - https://t.co/m1BPy7tviB\n",
      "Handle Stress Now With These Easy Tips - https://t.co/LS2evUbLtf\n",
      "Having Trouble With Stress Then Try These Tips - https://t.co/UkHHNJERKs\n",
      "Learn To Manage Stress With These Tips - https://t.co/fBSJPn1L6P\n",
      "Use The Following Tips For Stress-Relief - https://t.co/jCLiJfGvIb\n",
      "Want To Eliminate Your Stress? Keep Reading - https://t.co/rPXqTtuoo3\n",
      "Don't Let Stress Consume Your Life - https://t.co/VMKUPVVTk5\n",
      "How To Deal With Stress The Right Way - https://t.co/r7qsSLt1Ar\n",
      "Quick Ways To Help You Manage Your Stress - https://t.co/araCLPvwfB\n",
      "Don't Let Stress Consume Your Life - https://t.co/4lHorGU2pA\n",
      "How To Get Free Of Stress - https://t.co/okQCoBHbiN\n",
      "Learn How You Can Cope With Your Stress - https://t.co/yzaeaIOISz\n",
      "Tips To Help You Avoid Stress In The Future - https://t.co/wB0hs0qjQs\n",
      "Advice And Tips About Controlling Stress In Your Life - https://t.co/UY6PM37V6D\n",
      "What You Should Do When Life Stresses You Out - https://t.co/cZiq4TnbXb\n",
      "Tips To Help You Defeat The Stress In Your Life - https://t.co/sUQ2fhIHdU\n",
      "Get Rid Of Your Stress With These Tips - https://t.co/HtoKCTEzM3\n",
      "Tips To Help You Manage Your Stress! - https://t.co/tBvx4fj2J1\n",
      "Are You Stressed To The Max? Then Get Help Here! - https://t.co/Oj7vrTM85A\n",
      "How To Get Free Of Stress - https://t.co/acRZxlpGly\n",
      "New Ways To Reduce Stress In Your Life - https://t.co/5zm5oXhC8Z\n",
      "Manage Your Stress For A Happier Life - https://t.co/mRL7FoiTk1\n",
      "Don't Live With Stress Anymore - Read These Tips! - https://t.co/t05YxUYcFw\n",
      "Get Rid Of Stress With These Tips - https://t.co/0KznOOwhwL\n",
      "Check Out These Techniques For Reducing Stress - https://t.co/tLzMvSA4n6\n",
      "Learn How To Manage Daily Stress With This Useful Advice - https://t.co/JsfuTyOy8A\n",
      "Succeed At Beating The Stress Out Of Your Life With These Simple Tricks - https://t.co/UQ9Z34lxWI\n",
      "Become Healthier By Leaving Your Stress Behind You - https://t.co/SpQRddi6fF\n",
      "Has Stress Got You Down? Knock It Down With These Great Tips! - https://t.co/IctOER95WO\n",
      "Get Rid Of Stress With These Tips - https://t.co/nVSRt07yML\n",
      "Great Strategies On How To Relieve Stress - https://t.co/pUSODxJ3aR\n",
      "How You Can Better Manage Your Stress  - https://t.co/j3BFpw6pPM\n",
      "Use These Tips To Eliminate Your Stress - https://t.co/XovsdnMjYe\n",
      "Tips To Help You Defeat The Stress In Your Life - https://t.co/yl6gblIf9s\n",
      "Tips To Help You Relax And Avoid Stress - https://t.co/uKv9vHK6dx\n",
      "Tricks To Control Stress Levels And Relax - https://t.co/IZ3BsopOad\n",
      "Stay Calm And Stress-Free With The Following Tips - https://t.co/YLjuk7C3TN\n",
      "Succeed At Beating The Stress Out Of Your Life With These Simple Tricks - https://t.co/fxJlvUgLYZ\n",
      "Discover Helpful Strategies For Coping With Stress - https://t.co/VLezDSJ2uV\n",
      "Learn Ways To Cope With Stress - https://t.co/cJS8Q7s5An\n",
      "Lose Your Stress Fast With Tips That Actually Work! - https://t.co/LIl7HD50yl\n",
      "Manage Stress With These Easy Tips And Tricks - https://t.co/Ng4kZPEcDl\n",
      "Stress Ruining Your Day? Try These Tips - https://t.co/inBYbuifDQ\n",
      "Awesome Advice And Tips For Stress Relief - https://t.co/kurIy1Q5DO\n",
      "Tips On How To Effectively Relieve Your Stress - https://t.co/4ckWxTbknQ\n",
      "Reduce Stress By Observing These Simple Tips - https://t.co/cyPO5x52z7\n",
      "Don't Stress! Read On For Tips To Help! - https://t.co/VfbX9GzG7d\n",
      "Lessen The Effects Of Stressful Situations - https://t.co/FgeSOGFoL0\n",
      "Sensible Advice To Help You Conquer Your Stress - https://t.co/HZdGtkqqrS\n",
      "Great Ways Of Destroying Stress Before It Affects You - https://t.co/8uysyszxsK\n",
      "Top Tips For Dealing With Your Stress - https://t.co/K7avmgUoEv\n",
      "Lose Your Stress Fast With Tips That Actually Work! - https://t.co/B7Ou7MVL9h\n",
      "Is Stress Running Your Life? Try The Following Tips - https://t.co/jFhACd2kkQ\n",
      "Tips For Knocking The Stress Out Of Your Life - https://t.co/WK41lXFVvo\n",
      "Easy Exercises That You Can Practice To Prevent Stress - https://t.co/8rsNaOLaCk\n",
      "Tips To Help You Live Stress Free - https://t.co/oX8M86LLRR\n",
      "Properly Dealing With All Your Life's Stresses - https://t.co/njdOJ5HfSK\n",
      "Great Guide On How To Manage Stress - https://t.co/FiPg714XuH\n",
      "Effectively Manage Your Stress With These Tips - https://t.co/PWb60ZILhC\n",
      "Don't Stress Out! Useful Tips And Tricks To Help! - https://t.co/yBOuitTl1o\n",
      "Easy Solutions For Managing Those Stressful Days - https://t.co/oo0duY96p8\n",
      "How To Remove Stress From Your Life - https://t.co/AF93rwgEU7\n",
      "Tricks To Control Stress Levels And Relax - https://t.co/Ei8RFDrM61\n",
      "Ease Stress With These Tips And Tricks - https://t.co/o14M3HGBjK\n",
      "Helpful Tips People Should Know About Stress - https://t.co/hwCPo3vSEv\n",
      "Tricks To Manage Your Stress And Start Relaxing - https://t.co/RpWaN0oYsD\n",
      "Don't Let Stress Keep You From Enjoying Life - https://t.co/vB01VFUpGY\n",
      "Looking For Help In Reducing Stress? Follow These Simple Hints! - https://t.co/Fsck0tm2hd\n"
     ]
    }
   ],
   "source": [
    "# Target User Account\n",
    "target_user = \"Stress_tips123\"\n",
    "all_tweets = []\n",
    "\n",
    "## collect 100 tweets\n",
    "for x in range(5):\n",
    "    # Utilize JSON dumps to generate a pretty-printed json\n",
    "    tweets = api.user_timeline(target_user, page=x)\n",
    "    all_tweets = all_tweets + tweets\n",
    "    \n",
    "## print out the tweeets \n",
    "for tweet_data in all_tweets:\n",
    "    tweet = tweet_data['text']\n",
    "    print(tweet)\n"
   ]
  },
  {
   "cell_type": "code",
   "execution_count": null,
   "metadata": {
    "collapsed": true
   },
   "outputs": [],
   "source": []
  }
 ],
 "metadata": {
  "kernelspec": {
   "display_name": "Python 3",
   "language": "python",
   "name": "python3"
  },
  "language_info": {
   "codemirror_mode": {
    "name": "ipython",
    "version": 3
   },
   "file_extension": ".py",
   "mimetype": "text/x-python",
   "name": "python",
   "nbconvert_exporter": "python",
   "pygments_lexer": "ipython3",
   "version": "3.6.2"
  },
  "varInspector": {
   "cols": {
    "lenName": 16,
    "lenType": 16,
    "lenVar": 40
   },
   "kernels_config": {
    "python": {
     "delete_cmd_postfix": "",
     "delete_cmd_prefix": "del ",
     "library": "var_list.py",
     "varRefreshCmd": "print(var_dic_list())"
    },
    "r": {
     "delete_cmd_postfix": ") ",
     "delete_cmd_prefix": "rm(",
     "library": "var_list.r",
     "varRefreshCmd": "cat(var_dic_list()) "
    }
   },
   "types_to_exclude": [
    "module",
    "function",
    "builtin_function_or_method",
    "instance",
    "_Feature"
   ],
   "window_display": false
  }
 },
 "nbformat": 4,
 "nbformat_minor": 2
}
