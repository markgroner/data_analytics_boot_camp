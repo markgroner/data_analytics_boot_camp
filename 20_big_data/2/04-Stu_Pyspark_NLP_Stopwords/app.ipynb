{
 "cells": [
  {
   "cell_type": "code",
   "execution_count": 1,
   "metadata": {
    "collapsed": true
   },
   "outputs": [],
   "source": [
    "from pyspark.sql import SparkSession\n",
    "from pyspark.ml.feature import RegexTokenizer, Tokenizer\n",
    "from pyspark.ml.feature import Tokenizer, StopWordsRemover"
   ]
  },
  {
   "cell_type": "code",
   "execution_count": 2,
   "metadata": {},
   "outputs": [],
   "source": [
    "# create spark app and session\n",
    "spark = SparkSession.builder.appName('stop_words').getOrCreate()"
   ]
  },
  {
   "cell_type": "code",
   "execution_count": 3,
   "metadata": {},
   "outputs": [
    {
     "name": "stdout",
     "output_type": "stream",
     "text": [
      "+--------------------+--------------------+\n",
      "|             Reviews|                 _c1|\n",
      "+--------------------+--------------------+\n",
      "|The pasta was a d...|                null|\n",
      "|We ate the fish i...|                null|\n",
      "|My family did not...|                null|\n",
      "|The girl even tri...|                null|\n",
      "|this is his job a...| no apology. So I...|\n",
      "|I'm always greete...|                null|\n",
      "+--------------------+--------------------+\n",
      "\n"
     ]
    }
   ],
   "source": [
    "# Import csv into a dataframe\n",
    "dataframe = spark.read.format('csv').option('header', 'true').load('food_reviews.csv')\n",
    "dataframe.show()"
   ]
  },
  {
   "cell_type": "code",
   "execution_count": 4,
   "metadata": {},
   "outputs": [
    {
     "name": "stdout",
     "output_type": "stream",
     "text": [
      "+--------------------+\n",
      "|             Reviews|\n",
      "+--------------------+\n",
      "|The pasta was a d...|\n",
      "|We ate the fish i...|\n",
      "|My family did not...|\n",
      "|The girl even tri...|\n",
      "|this is his job a...|\n",
      "|I'm always greete...|\n",
      "+--------------------+\n",
      "\n"
     ]
    }
   ],
   "source": [
    "dataframe = dataframe.drop('_c1')\n",
    "dataframe.show()"
   ]
  },
  {
   "cell_type": "code",
   "execution_count": 5,
   "metadata": {},
   "outputs": [],
   "source": [
    "# Tokenize dataframe\n",
    "tokened = Tokenizer(inputCol='Reviews', outputCol='words')"
   ]
  },
  {
   "cell_type": "code",
   "execution_count": 6,
   "metadata": {},
   "outputs": [
    {
     "name": "stdout",
     "output_type": "stream",
     "text": [
      "+--------------------+--------------------+\n",
      "|             Reviews|               words|\n",
      "+--------------------+--------------------+\n",
      "|The pasta was a d...|[the, pasta, was,...|\n",
      "|We ate the fish i...|[we, ate, the, fi...|\n",
      "|My family did not...|[my, family, did,...|\n",
      "|The girl even tri...|[the, girl, even,...|\n",
      "|this is his job a...|[this, is, his, j...|\n",
      "|I'm always greete...|[i'm, always, gre...|\n",
      "+--------------------+--------------------+\n",
      "\n"
     ]
    }
   ],
   "source": [
    "# Transform dataframe\n",
    "tokenized = tokened.transform(dataframe)\n",
    "tokenized.show()"
   ]
  },
  {
   "cell_type": "code",
   "execution_count": 7,
   "metadata": {
    "collapsed": true
   },
   "outputs": [],
   "source": [
    "# Remove stop words\n",
    "remover = StopWordsRemover(inputCol='words', outputCol='filtered')"
   ]
  },
  {
   "cell_type": "code",
   "execution_count": 10,
   "metadata": {
    "scrolled": false
   },
   "outputs": [
    {
     "name": "stdout",
     "output_type": "stream",
     "text": [
      "+--------------------------------------------------------------------------------------------------------------------------------------------------------------+------------------------------------------------------------------------------------------------------------------------------------------------------------------------------------------------+-------------------------------------------------------------------------------------------------------+\n",
      "|Reviews                                                                                                                                                       |words                                                                                                                                                                                           |filtered                                                                                               |\n",
      "+--------------------------------------------------------------------------------------------------------------------------------------------------------------+------------------------------------------------------------------------------------------------------------------------------------------------------------------------------------------------+-------------------------------------------------------------------------------------------------------+\n",
      "|The pasta was a dish I had                                                                                                                                    |[the, pasta, was, a, dish, i, had]                                                                                                                                                              |[pasta, dish]                                                                                          |\n",
      "|We ate the fish it was tasty                                                                                                                                  |[we, ate, the, fish, it, was, tasty]                                                                                                                                                            |[ate, fish, tasty]                                                                                     |\n",
      "|My family did not like the food here                                                                                                                          |[my, family, did, not, like, the, food, here]                                                                                                                                                   |[family, like, food]                                                                                   |\n",
      "|The girl even tried to spread each half out to cover the roll.                                                                                                |[the, girl, even, tried, to, spread, each, half, out, to, cover, the, roll.]                                                                                                                    |[girl, even, tried, spread, half, cover, roll.]                                                        |\n",
      "|this is his job and since it was probably the slowest time of the day I would at least expect him to take my order and put the sandwich through. And of course|[this, is, his, job, and, since, it, was, probably, the, slowest, time, of, the, day, i, would, at, least, expect, him, to, take, my, order, and, put, the, sandwich, through., and, of, course]|[job, since, probably, slowest, time, day, least, expect, take, order, put, sandwich, through., course]|\n",
      "|I'm always greeted by the  employees and they always seem eager to help.                                                                                      |[i'm, always, greeted, by, the, , employees, and, they, always, seem, eager, to, help.]                                                                                                         |[always, greeted, , employees, always, seem, eager, help.]                                             |\n",
      "+--------------------------------------------------------------------------------------------------------------------------------------------------------------+------------------------------------------------------------------------------------------------------------------------------------------------------------------------------------------------+-------------------------------------------------------------------------------------------------------+\n",
      "\n"
     ]
    }
   ],
   "source": [
    "# Transform new dataframe\n",
    "remover.transform(tokenized).show(truncate=False)"
   ]
  },
  {
   "cell_type": "code",
   "execution_count": 9,
   "metadata": {},
   "outputs": [
    {
     "ename": "AttributeError",
     "evalue": "'NoneType' object has no attribute 'show'",
     "output_type": "error",
     "traceback": [
      "\u001b[1;31m---------------------------------------------------------------------------\u001b[0m",
      "\u001b[1;31mAttributeError\u001b[0m                            Traceback (most recent call last)",
      "\u001b[1;32m<ipython-input-9-83cc6c1a4256>\u001b[0m in \u001b[0;36m<module>\u001b[1;34m()\u001b[0m\n\u001b[0;32m      1\u001b[0m \u001b[1;31m# Show simplified review\u001b[0m\u001b[1;33m\u001b[0m\u001b[1;33m\u001b[0m\u001b[0m\n\u001b[1;32m----> 2\u001b[1;33m \u001b[0msimplified_review\u001b[0m\u001b[1;33m.\u001b[0m\u001b[0mshow\u001b[0m\u001b[1;33m(\u001b[0m\u001b[1;33m)\u001b[0m\u001b[1;33m\u001b[0m\u001b[0m\n\u001b[0m",
      "\u001b[1;31mAttributeError\u001b[0m: 'NoneType' object has no attribute 'show'"
     ]
    }
   ],
   "source": [
    "# Show simplified review\n",
    "simplified_review.show()"
   ]
  },
  {
   "cell_type": "code",
   "execution_count": null,
   "metadata": {
    "collapsed": true
   },
   "outputs": [],
   "source": [
    "# Stop spark"
   ]
  }
 ],
 "metadata": {
  "kernelspec": {
   "display_name": "Python 3",
   "language": "python",
   "name": "python3"
  },
  "language_info": {
   "codemirror_mode": {
    "name": "ipython",
    "version": 3
   },
   "file_extension": ".py",
   "mimetype": "text/x-python",
   "name": "python",
   "nbconvert_exporter": "python",
   "pygments_lexer": "ipython3",
   "version": "3.6.2"
  }
 },
 "nbformat": 4,
 "nbformat_minor": 2
}
