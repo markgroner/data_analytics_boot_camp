{
 "cells": [
  {
   "cell_type": "code",
   "execution_count": 2,
   "metadata": {
    "collapsed": true
   },
   "outputs": [],
   "source": [
    "from pyspark.sql import SparkSession\n",
    "from pyspark.ml.feature import RegexTokenizer, Tokenizer\n",
    "from pyspark.sql.functions import col, udf\n",
    "from pyspark.sql.types import IntegerType"
   ]
  },
  {
   "cell_type": "code",
   "execution_count": 3,
   "metadata": {
    "collapsed": true
   },
   "outputs": [],
   "source": [
    "# Start spark session\n",
    "spark = SparkSession.builder.appName('tokenizer').getOrCreate()"
   ]
  },
  {
   "cell_type": "code",
   "execution_count": 4,
   "metadata": {
    "collapsed": true
   },
   "outputs": [],
   "source": [
    "# Read in csv\n",
    "data = spark.read.csv('data.csv')"
   ]
  },
  {
   "cell_type": "code",
   "execution_count": 6,
   "metadata": {},
   "outputs": [
    {
     "name": "stdout",
     "output_type": "stream",
     "text": [
      "+--------------------+\n",
      "|                Poem|\n",
      "+--------------------+\n",
      "|This Autumn midnight|\n",
      "|Orion’s at my window|\n",
      "|shouting for his ...|\n",
      "+--------------------+\n",
      "\n"
     ]
    }
   ],
   "source": [
    "# Show datframe\n",
    "dataframe = spark.read.format('csv').option('header', 'true').load('data.csv')\n",
    "dataframe.show()"
   ]
  },
  {
   "cell_type": "code",
   "execution_count": 7,
   "metadata": {
    "collapsed": true
   },
   "outputs": [],
   "source": [
    "# Tokenize dataframe\n",
    "tokened = Tokenizer(inputCol='Poem', outputCol='words')"
   ]
  },
  {
   "cell_type": "code",
   "execution_count": 9,
   "metadata": {},
   "outputs": [
    {
     "name": "stdout",
     "output_type": "stream",
     "text": [
      "+--------------------+--------------------+\n",
      "|                Poem|               words|\n",
      "+--------------------+--------------------+\n",
      "|This Autumn midnight|[this, autumn, mi...|\n",
      "|Orion’s at my window|[orion’s, at, my,...|\n",
      "|shouting for his ...|[shouting, for, h...|\n",
      "+--------------------+--------------------+\n",
      "\n"
     ]
    }
   ],
   "source": [
    "# Create functino to count vowels\n",
    "tokenized = tokened.transform(dataframe)\n",
    "tokenized.show()"
   ]
  },
  {
   "cell_type": "code",
   "execution_count": 10,
   "metadata": {
    "collapsed": true
   },
   "outputs": [],
   "source": [
    "# Store a user defined function\n",
    "# Create a Function to count vowels\n",
    "def vowel_counter(words):\n",
    "    vowel_count = 0\n",
    "\n",
    "    for word in words:\n",
    "        for vowel in word:\n",
    "            if vowel in ('a', 'e', 'i', 'o', 'u'):\n",
    "                vowel_count += 1\n",
    "\n",
    "    return vowel_count"
   ]
  },
  {
   "cell_type": "code",
   "execution_count": 11,
   "metadata": {},
   "outputs": [
    {
     "data": {
      "text/plain": [
       "<function __main__.vowel_counter>"
      ]
     },
     "execution_count": 11,
     "metadata": {},
     "output_type": "execute_result"
    }
   ],
   "source": [
    "# Transform dataframe\n",
    "count_vowels = udf(vowel_counter, IntegerType())\n",
    "count_vowels"
   ]
  },
  {
   "cell_type": "code",
   "execution_count": 12,
   "metadata": {},
   "outputs": [
    {
     "name": "stdout",
     "output_type": "stream",
     "text": [
      "+---------------------+--------------------------+------+\n",
      "|Poem                 |words                     |vowels|\n",
      "+---------------------+--------------------------+------+\n",
      "|This Autumn midnight |[this, autumn, midnight]  |6     |\n",
      "|Orion’s at my window |[orion’s, at, my, window] |6     |\n",
      "|shouting for his dog.|[shouting, for, his, dog.]|6     |\n",
      "+---------------------+--------------------------+------+\n",
      "\n"
     ]
    }
   ],
   "source": [
    "# Create a new dataframe with the udf\n",
    "tokenized.select('Poem', 'words').withColumn('vowels', count_vowels(col('words'))).show(truncate=False)"
   ]
  },
  {
   "cell_type": "code",
   "execution_count": 13,
   "metadata": {
    "collapsed": true
   },
   "outputs": [],
   "source": [
    "# Stop Spark\n",
    "spark.stop()"
   ]
  },
  {
   "cell_type": "code",
   "execution_count": null,
   "metadata": {
    "collapsed": true
   },
   "outputs": [],
   "source": []
  }
 ],
 "metadata": {
  "kernelspec": {
   "display_name": "Python 3",
   "language": "python",
   "name": "python3"
  },
  "language_info": {
   "codemirror_mode": {
    "name": "ipython",
    "version": 3
   },
   "file_extension": ".py",
   "mimetype": "text/x-python",
   "name": "python",
   "nbconvert_exporter": "python",
   "pygments_lexer": "ipython3",
   "version": "3.6.2"
  }
 },
 "nbformat": 4,
 "nbformat_minor": 2
}
