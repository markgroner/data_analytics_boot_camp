{
 "cells": [
  {
   "cell_type": "code",
   "execution_count": 1,
   "metadata": {},
   "outputs": [
    {
     "name": "stderr",
     "output_type": "stream",
     "text": [
      "rm: cannot remove 'demographics.sqlite': No such file or directory\n",
      "rm: cannot remove 'cleaned_csv.csv': No such file or directory\n"
     ]
    }
   ],
   "source": [
    "!rm demographics.sqlite cleaned_csv.csv"
   ]
  },
  {
   "cell_type": "code",
   "execution_count": 2,
   "metadata": {
    "collapsed": true
   },
   "outputs": [],
   "source": [
    "import pandas as pd\n",
    "import numpy as np\n",
    "import os"
   ]
  },
  {
   "cell_type": "code",
   "execution_count": 3,
   "metadata": {
    "collapsed": true
   },
   "outputs": [],
   "source": [
    "# CSV file\n",
    "csvfile = \"demographics.csv\""
   ]
  },
  {
   "cell_type": "code",
   "execution_count": 5,
   "metadata": {
    "deletable": false,
    "nbgrader": {
     "checksum": "b7efb0375c87d1e9c6554c126c8fe72f",
     "grade": false,
     "grade_id": "cell-1756496f1ac57a06",
     "locked": false,
     "schema_version": 1,
     "solution": true
    }
   },
   "outputs": [
    {
     "data": {
      "text/html": [
       "<div>\n",
       "<style>\n",
       "    .dataframe thead tr:only-child th {\n",
       "        text-align: right;\n",
       "    }\n",
       "\n",
       "    .dataframe thead th {\n",
       "        text-align: left;\n",
       "    }\n",
       "\n",
       "    .dataframe tbody tr th {\n",
       "        vertical-align: top;\n",
       "    }\n",
       "</style>\n",
       "<table border=\"1\" class=\"dataframe\">\n",
       "  <thead>\n",
       "    <tr style=\"text-align: right;\">\n",
       "      <th></th>\n",
       "      <th>id</th>\n",
       "      <th>name</th>\n",
       "      <th>age</th>\n",
       "      <th>height_meter</th>\n",
       "      <th>weight_kg</th>\n",
       "      <th>children</th>\n",
       "      <th>occupation</th>\n",
       "      <th>academic_degree</th>\n",
       "      <th>salary</th>\n",
       "      <th>location</th>\n",
       "    </tr>\n",
       "  </thead>\n",
       "  <tbody>\n",
       "    <tr>\n",
       "      <th>0</th>\n",
       "      <td>0</td>\n",
       "      <td>Darlena Avila</td>\n",
       "      <td>58</td>\n",
       "      <td>1.87</td>\n",
       "      <td>53</td>\n",
       "      <td>1</td>\n",
       "      <td>Choreographer</td>\n",
       "      <td>PhD</td>\n",
       "      <td>68</td>\n",
       "      <td>South Dakota</td>\n",
       "    </tr>\n",
       "    <tr>\n",
       "      <th>1</th>\n",
       "      <td>1</td>\n",
       "      <td>Yan Boyd</td>\n",
       "      <td>65</td>\n",
       "      <td>1.80</td>\n",
       "      <td>40</td>\n",
       "      <td>0</td>\n",
       "      <td>Cellarman</td>\n",
       "      <td>Bachelor</td>\n",
       "      <td>73</td>\n",
       "      <td>Delaware</td>\n",
       "    </tr>\n",
       "    <tr>\n",
       "      <th>2</th>\n",
       "      <td>2</td>\n",
       "      <td>Joette Lane</td>\n",
       "      <td>32</td>\n",
       "      <td>1.80</td>\n",
       "      <td>73</td>\n",
       "      <td>1</td>\n",
       "      <td>Veterinary Surgeon</td>\n",
       "      <td>Master</td>\n",
       "      <td>69</td>\n",
       "      <td>South Dakota</td>\n",
       "    </tr>\n",
       "  </tbody>\n",
       "</table>\n",
       "</div>"
      ],
      "text/plain": [
       "   id           name  age  height_meter  weight_kg  children  \\\n",
       "0   0  Darlena Avila   58          1.87         53         1   \n",
       "1   1       Yan Boyd   65          1.80         40         0   \n",
       "2   2    Joette Lane   32          1.80         73         1   \n",
       "\n",
       "           occupation academic_degree  salary      location  \n",
       "0       Choreographer             PhD      68  South Dakota  \n",
       "1           Cellarman        Bachelor      73      Delaware  \n",
       "2  Veterinary Surgeon          Master      69  South Dakota  "
      ]
     },
     "execution_count": 5,
     "metadata": {},
     "output_type": "execute_result"
    }
   ],
   "source": [
    "# Read CSV file into a pandas DataFrame\n",
    "demographics_df = pd.read_csv(csvfile)\n",
    "demographics_df.head(3)"
   ]
  },
  {
   "cell_type": "code",
   "execution_count": null,
   "metadata": {
    "collapsed": true,
    "deletable": false,
    "nbgrader": {
     "checksum": "bbdf2b4f0ed7ad620d4349e18c7b6b2d",
     "grade": false,
     "grade_id": "cell-8fca0dd11221aafd",
     "locked": false,
     "schema_version": 1,
     "solution": true
    }
   },
   "outputs": [],
   "source": [
    "# Use `dropna` to drop any rows where there is missing data\n",
    "# YOUR CODE HERE"
   ]
  },
  {
   "cell_type": "code",
   "execution_count": null,
   "metadata": {
    "collapsed": true,
    "deletable": false,
    "nbgrader": {
     "checksum": "41ebb5f81d2ff7db6026feb12c0bb045",
     "grade": false,
     "grade_id": "cell-51f491a7ae7a6a50",
     "locked": false,
     "schema_version": 1,
     "solution": true
    }
   },
   "outputs": [],
   "source": [
    "# Drop the `name` column and reset the index\n",
    "# YOUR CODE HERE"
   ]
  },
  {
   "cell_type": "code",
   "execution_count": null,
   "metadata": {
    "collapsed": true,
    "deletable": false,
    "nbgrader": {
     "checksum": "7e3b0b24a1ea394d6e97e33e278636a8",
     "grade": false,
     "grade_id": "cell-d4d93ab46f0c4c50",
     "locked": false,
     "schema_version": 1,
     "solution": true
    }
   },
   "outputs": [],
   "source": [
    "# Save the cleaned data to a file called `cleaned_demographics.csv`\n",
    "# YOUR CODE HERE"
   ]
  },
  {
   "cell_type": "code",
   "execution_count": 6,
   "metadata": {
    "collapsed": true
   },
   "outputs": [],
   "source": [
    "# Python SQL toolkit and Object Relational Mapper\n",
    "import sqlalchemy\n",
    "from sqlalchemy import create_engine, MetaData\n",
    "from sqlalchemy.ext.declarative import declarative_base\n",
    "from sqlalchemy import Column, Integer, String, Numeric, Text, Float"
   ]
  },
  {
   "cell_type": "code",
   "execution_count": 28,
   "metadata": {
    "collapsed": true,
    "deletable": false,
    "nbgrader": {
     "checksum": "ff3b11525403a6033bf90d610b7ab929",
     "grade": false,
     "grade_id": "cell-98f2e4153eb825b9",
     "locked": false,
     "schema_version": 1,
     "solution": true
    }
   },
   "outputs": [],
   "source": [
    "# Create an engine to a database file called `demographics.sqlite`\n",
    "engine = create_engine('sqlite:///demographics.sqlite')"
   ]
  },
  {
   "cell_type": "code",
   "execution_count": 29,
   "metadata": {
    "collapsed": true,
    "deletable": false,
    "nbgrader": {
     "checksum": "bad12b0e2c5e8cab1d3901be49348da1",
     "grade": false,
     "grade_id": "cell-2ed864b6e4573e59",
     "locked": false,
     "schema_version": 1,
     "solution": true
    }
   },
   "outputs": [],
   "source": [
    "# Create a connection to the engine called `conn`\n",
    "conn = engine.connect()"
   ]
  },
  {
   "cell_type": "code",
   "execution_count": 30,
   "metadata": {
    "collapsed": true
   },
   "outputs": [],
   "source": [
    "# Use `declarative_base` from SQLAlchemy to model the demographics table as an ORM class\n",
    "# Make sure to specify types for each column\n",
    "\n",
    "Base = declarative_base()\n",
    "\n",
    "class Demographics(Base):\n",
    "    __tablename__ = 'demographics'\n",
    "\n",
    "    id = Column(Integer, primary_key=True)\n",
    "    age = Column(Integer)\n",
    "    name = Column(Text)\n",
    "    height_meter = Column(Float)\n",
    "    weight_kg = Column(Float)\n",
    "    children = Column(Integer)\n",
    "    occupation = Column(Text)\n",
    "    academic_degree = Column(Text)\n",
    "    salary = Column(Integer)\n",
    "    location = Column(Text)\n",
    "\n",
    "    def __repr__(self):\n",
    "        return f\"id={self.id}, name={self.name}\""
   ]
  },
  {
   "cell_type": "code",
   "execution_count": 50,
   "metadata": {
    "deletable": false,
    "nbgrader": {
     "checksum": "5122284b28a02761937e44beabab197a",
     "grade": false,
     "grade_id": "cell-d59cd212c9242236",
     "locked": false,
     "schema_version": 1,
     "solution": true
    }
   },
   "outputs": [],
   "source": [
    "# Use `create_all` to create the demographics table in the database\n",
    "metadata = MetaData(bind=engine)"
   ]
  },
  {
   "cell_type": "code",
   "execution_count": 51,
   "metadata": {
    "deletable": false,
    "nbgrader": {
     "checksum": "266c40586aecdd224f561cd5b41366fd",
     "grade": false,
     "grade_id": "cell-7a708f12942ebf82",
     "locked": false,
     "schema_version": 1,
     "solution": true
    }
   },
   "outputs": [
    {
     "data": {
      "text/html": [
       "<div>\n",
       "<style>\n",
       "    .dataframe thead tr:only-child th {\n",
       "        text-align: right;\n",
       "    }\n",
       "\n",
       "    .dataframe thead th {\n",
       "        text-align: left;\n",
       "    }\n",
       "\n",
       "    .dataframe tbody tr th {\n",
       "        vertical-align: top;\n",
       "    }\n",
       "</style>\n",
       "<table border=\"1\" class=\"dataframe\">\n",
       "  <thead>\n",
       "    <tr style=\"text-align: right;\">\n",
       "      <th></th>\n",
       "      <th>id</th>\n",
       "      <th>name</th>\n",
       "      <th>age</th>\n",
       "      <th>height_meter</th>\n",
       "      <th>weight_kg</th>\n",
       "      <th>children</th>\n",
       "      <th>occupation</th>\n",
       "      <th>academic_degree</th>\n",
       "      <th>salary</th>\n",
       "      <th>location</th>\n",
       "    </tr>\n",
       "  </thead>\n",
       "  <tbody>\n",
       "    <tr>\n",
       "      <th>0</th>\n",
       "      <td>0</td>\n",
       "      <td>Darlena Avila</td>\n",
       "      <td>58</td>\n",
       "      <td>1.87</td>\n",
       "      <td>53</td>\n",
       "      <td>1</td>\n",
       "      <td>Choreographer</td>\n",
       "      <td>PhD</td>\n",
       "      <td>68</td>\n",
       "      <td>South Dakota</td>\n",
       "    </tr>\n",
       "    <tr>\n",
       "      <th>1</th>\n",
       "      <td>1</td>\n",
       "      <td>Yan Boyd</td>\n",
       "      <td>65</td>\n",
       "      <td>1.80</td>\n",
       "      <td>40</td>\n",
       "      <td>0</td>\n",
       "      <td>Cellarman</td>\n",
       "      <td>Bachelor</td>\n",
       "      <td>73</td>\n",
       "      <td>Delaware</td>\n",
       "    </tr>\n",
       "    <tr>\n",
       "      <th>2</th>\n",
       "      <td>2</td>\n",
       "      <td>Joette Lane</td>\n",
       "      <td>32</td>\n",
       "      <td>1.80</td>\n",
       "      <td>73</td>\n",
       "      <td>1</td>\n",
       "      <td>Veterinary Surgeon</td>\n",
       "      <td>Master</td>\n",
       "      <td>69</td>\n",
       "      <td>South Dakota</td>\n",
       "    </tr>\n",
       "  </tbody>\n",
       "</table>\n",
       "</div>"
      ],
      "text/plain": [
       "   id           name  age  height_meter  weight_kg  children  \\\n",
       "0   0  Darlena Avila   58          1.87         53         1   \n",
       "1   1       Yan Boyd   65          1.80         40         0   \n",
       "2   2    Joette Lane   32          1.80         73         1   \n",
       "\n",
       "           occupation academic_degree  salary      location  \n",
       "0       Choreographer             PhD      68  South Dakota  \n",
       "1           Cellarman        Bachelor      73      Delaware  \n",
       "2  Veterinary Surgeon          Master      69  South Dakota  "
      ]
     },
     "execution_count": 51,
     "metadata": {},
     "output_type": "execute_result"
    }
   ],
   "source": [
    "# Load the cleaned csv file into a pandas dataframe\n",
    "demographics_df.head(3)"
   ]
  },
  {
   "cell_type": "code",
   "execution_count": 52,
   "metadata": {
    "collapsed": true,
    "deletable": false,
    "nbgrader": {
     "checksum": "ed2213e91ede145569290ab77cf79278",
     "grade": false,
     "grade_id": "cell-2e4e9070e9d7731e",
     "locked": false,
     "schema_version": 1,
     "solution": true
    }
   },
   "outputs": [],
   "source": [
    "# Use Orient='records' to create a list of data to write\n",
    "# http://pandas-docs.github.io/pandas-docs-travis/io.html#orient-options\n",
    "data = demographics_df.to_dict(orient = 'records')"
   ]
  },
  {
   "cell_type": "code",
   "execution_count": 53,
   "metadata": {
    "deletable": false,
    "nbgrader": {
     "checksum": "ab3486e789ad1f422b85e0a121b902f4",
     "grade": false,
     "grade_id": "cell-9a0a95e483231aff",
     "locked": false,
     "schema_version": 1,
     "solution": true
    }
   },
   "outputs": [],
   "source": [
    "# Use MetaData from SQLAlchemy to reflect the tables\n",
    "metadata.reflect()"
   ]
  },
  {
   "cell_type": "code",
   "execution_count": 54,
   "metadata": {
    "deletable": false,
    "nbgrader": {
     "checksum": "a9816caaecce8e2f00883f9664799bf9",
     "grade": false,
     "grade_id": "cell-aa99bd37e7312721",
     "locked": false,
     "schema_version": 1,
     "solution": true
    }
   },
   "outputs": [
    {
     "data": {
      "text/plain": [
       "dict_keys([])"
      ]
     },
     "execution_count": 54,
     "metadata": {},
     "output_type": "execute_result"
    }
   ],
   "source": [
    "# Save the reference to the `demographics` table as a variable called `table`\n",
    "## table = sqlalchemy.Table('demographics', metadata, autoload=True)\n",
    "metadata.tables.keys()\n"
   ]
  },
  {
   "cell_type": "code",
   "execution_count": null,
   "metadata": {
    "collapsed": true,
    "deletable": false,
    "nbgrader": {
     "checksum": "b4de31b3c466aa4f23ae6a49aa424c1c",
     "grade": false,
     "grade_id": "cell-d14de7e133e456df",
     "locked": false,
     "schema_version": 1,
     "solution": true
    }
   },
   "outputs": [],
   "source": [
    "# Use `table.delete()` to remove any existing data.\n",
    "# Note that this is a convenience function so that you can re-run the example code multiple times.\n",
    "# You would not likely do this step in production.\n",
    "# YOUR CODE HERE"
   ]
  },
  {
   "cell_type": "code",
   "execution_count": null,
   "metadata": {
    "collapsed": true,
    "deletable": false,
    "nbgrader": {
     "checksum": "fba358c70e92ba246dbc02eb86f207e4",
     "grade": false,
     "grade_id": "cell-aa692b86da935657",
     "locked": false,
     "schema_version": 1,
     "solution": true
    }
   },
   "outputs": [],
   "source": [
    "# Use `table.insert()` to insert the data into the table\n",
    "# YOUR CODE HERE"
   ]
  },
  {
   "cell_type": "code",
   "execution_count": null,
   "metadata": {
    "collapsed": true
   },
   "outputs": [],
   "source": [
    "# Test that the insert works by fetching the first 5 rows. \n",
    "conn.execute(\"select * from demographics limit 5\").fetchall()"
   ]
  }
 ],
 "metadata": {
  "anaconda-cloud": {},
  "kernel_info": {
   "name": "python3"
  },
  "kernelspec": {
   "display_name": "Python 3",
   "language": "python",
   "name": "python3"
  },
  "language_info": {
   "codemirror_mode": {
    "name": "ipython",
    "version": 3
   },
   "file_extension": ".py",
   "mimetype": "text/x-python",
   "name": "python",
   "nbconvert_exporter": "python",
   "pygments_lexer": "ipython3",
   "version": "3.6.2"
  },
  "nteract": {
   "version": "0.2.0"
  },
  "varInspector": {
   "cols": {
    "lenName": 16,
    "lenType": 16,
    "lenVar": 40
   },
   "kernels_config": {
    "python": {
     "delete_cmd_postfix": "",
     "delete_cmd_prefix": "del ",
     "library": "var_list.py",
     "varRefreshCmd": "print(var_dic_list())"
    },
    "r": {
     "delete_cmd_postfix": ") ",
     "delete_cmd_prefix": "rm(",
     "library": "var_list.r",
     "varRefreshCmd": "cat(var_dic_list()) "
    }
   },
   "types_to_exclude": [
    "module",
    "function",
    "builtin_function_or_method",
    "instance",
    "_Feature"
   ],
   "window_display": false
  }
 },
 "nbformat": 4,
 "nbformat_minor": 2
}
