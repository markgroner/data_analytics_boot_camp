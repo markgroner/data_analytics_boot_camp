{
 "cells": [
  {
   "cell_type": "code",
   "execution_count": 1,
   "metadata": {},
   "outputs": [],
   "source": [
    "from sqlalchemy import create_engine\n",
    "import pymysql\n",
    "pymysql.install_as_MySQLdb()\n",
    "\n",
    "from sqlalchemy.ext.declarative import declarative_base\n",
    "Base = declarative_base()\n",
    "from sqlalchemy import Column, Integer, String, Float\n",
    "\n",
    "from config import dbuser, dbpasswd, dburi, dbport, dbname"
   ]
  },
  {
   "cell_type": "code",
   "execution_count": 2,
   "metadata": {},
   "outputs": [],
   "source": [
    "from sqlalchemy import create_engine\n",
    "engine = create_engine(f\"mysql://{dbuser}:{dbpasswd}@{dburi}:{dbport}/{dbname}\")\n",
    "Base.metadata.create_all(engine)"
   ]
  },
  {
   "cell_type": "code",
   "execution_count": 3,
   "metadata": {
    "collapsed": true
   },
   "outputs": [],
   "source": [
    "from sqlalchemy.orm import Session\n",
    "session = Session(bind=engine)"
   ]
  },
  {
   "cell_type": "code",
   "execution_count": 4,
   "metadata": {
    "deletable": false,
    "nbgrader": {
     "checksum": "272368b77cc71254fcd63d37c986090e",
     "grade": false,
     "grade_id": "cell-c57d66be4b87f3dc",
     "locked": false,
     "schema_version": 1,
     "solution": true
    }
   },
   "outputs": [],
   "source": [
    "# create your shark class\n",
    "### BEGIN SOLUTION\n",
    "class Sharks(Base):\n",
    "    __tablename__ = 'sharks'\n",
    "    id = Column(Integer, primary_key=True)\n",
    "    case_number = Column(String)\n",
    "    date = Column(String)\n",
    "    year = Column(Integer)\n",
    "    type = Column(String)\n",
    "    country = Column(String)\n",
    "    area = Column(String)\n",
    "    location= Column(String)\n",
    "    activity = Column(String)\n",
    "    name = Column(String)\n",
    "    sex = Column(String)\n",
    "    age = Column(Integer)\n",
    "    injury = Column(String)\n",
    "    fatal_y_n = Column(String)\n",
    "    time = Column(String)\n",
    "    species = Column(String)\n",
    "    investigator_or_source = Column(String)\n",
    "    pdf = Column(String)\n",
    "    original_order = Column(Integer)\n",
    "### END SOLUTION"
   ]
  },
  {
   "cell_type": "code",
   "execution_count": 30,
   "metadata": {
    "deletable": false,
    "nbgrader": {
     "checksum": "827e8537e30fd84c706b14b2040fccf2",
     "grade": false,
     "grade_id": "cell-48e2a351e977f8b6",
     "locked": false,
     "schema_version": 1,
     "solution": true
    }
   },
   "outputs": [
    {
     "name": "stdout",
     "output_type": "stream",
     "text": [
      "Point Casuarina, Bunbury\n",
      "Flinders, Mornington Penisula\n",
      "Weipa\n",
      "None\n",
      "Sanibel Island, Lee County\n",
      "2-3 km north of Sunday's River mouth\n",
      "Second Beach, Port St. John's\n",
      "Blue Bay\n",
      "South Broulee\n",
      "Bateman's Bay\n",
      "Ponce Inlet, Volusia County\n",
      "Pulau Payar Island\n",
      "Alenuihaha Channel\n",
      "The Natural Jetty, Rottnest Island\n",
      "Near Albany\n",
      "Bourail\n",
      "Off Cape Point\n",
      "Taranaki\n",
      "Avalon\n",
      "Batt Reef\n",
      "Shelly Beach, near Port Macquarie\n",
      "Bondi Beach, Sydney\n",
      "Garden Point, Woolloomooloo Sydney Harbour\n",
      "Quebradillas\n",
      "Cellito Beach\n",
      "Florida Keys, Monroe County\n",
      "Sandon\n",
      "Onboard the fishing vessel Nuevo Cedes\n",
      "Praia do Olho d'Aqua\n",
      "Guantanamo Bay\n",
      "Alderman Islands\n",
      "Surf Beach, Batemans Bay\n",
      "Second Beach, Port St. John's\n",
      "Olho d'Ãgua\n",
      "Off Tower Hill\n",
      "Karitane Beach\n",
      "Sharpes Beach, Ballina\n",
      "Shark Alley, off Gansbaai\n",
      "Windang,       Lake Illawara\n",
      "Binalong Bay\n",
      "Fingal Beach\n",
      "Hawkes Bay\n",
      "Isla Isabella\n",
      "Haumoana\n",
      "Guantanamo\n",
      "Port Kennedy Beach\n",
      "near Schouten Island\n",
      "Irino Beach\n",
      "Seal Rocks\n",
      "Long Reef, north of Sydney\n",
      "Port Kennedy Beach\n",
      "Dillon Beach, Marin County\n",
      "Maraetai\n",
      "Plettenberg Bay\n",
      "Mowarry Point\n",
      "Chidenguele\n",
      "Elphinstone Reef\n",
      "Luzon Strait\n",
      "Clifton Beach\n",
      "Santa Cruz\n",
      "North Haven\n",
      "50 miles off Kaohsiung\n",
      "off Paoay, Ilocos Norte Province\n",
      "Oceanworld, Manley\n",
      "None\n",
      "Darwin\n",
      "Lake Macquarie\n",
      "Santa Rosa Beach, Walton County\n",
      "Smokvina Bay, Vis Island\n",
      "Green Turtle Cay\n",
      "New Smyrna Beach, Volusia County\n",
      "Bethune Beach\n",
      "Near Croker Island\n",
      "Ormond-by-the-Sea, Volusia County\n",
      "Ka'a'awa, Oahu\n",
      "Surf Beach, Lompoc, Santa Barbara County\n",
      "Clarks Beach, Byron Bay\n",
      "Ponce Inlet, New Smyrna Beach, Volusia County\n",
      "Ponce Inlet, New Smyrna Beach, Volusia County\n",
      "New Smyrna Beach, Volusia County\n",
      "20 k off The Spit, off the Gold Coast\n",
      "Hutchinson Island\n",
      "Tallow Beach, Byron Bay\n",
      "McKenzie Beach Park in Pahoa, Hawai'i \n",
      "Lundy Island\n",
      "New Smyrna Beach, Volusia County\n",
      "New Smyrna Beach, Volusia County\n",
      "New Smyrna Beach, Volusia County\n",
      "Surf City, Topsail Island, Pender County\n",
      "Sanibel Island, Lee County\n",
      "North Myrtle Beach, Horry County\n",
      "8 miles off Mobile\n",
      "Buck Island\n",
      "New Smyrna Beach, Volusia County\n",
      "Ala Moana Beach Park, Oah'u\n",
      "Levys Beach\n",
      "None\n",
      "Playa Teta\n",
      "None\n",
      "Honokowai, Maui\n"
     ]
    }
   ],
   "source": [
    "# print all locations of shark attacks\n",
    "attacks = session.query(Sharks)\n",
    "for attack in attacks:\n",
    "    print(attack.location)"
   ]
  },
  {
   "cell_type": "code",
   "execution_count": 31,
   "metadata": {
    "deletable": false,
    "nbgrader": {
     "checksum": "5da00f78964b8a2627e7955872b79cf2",
     "grade": false,
     "grade_id": "cell-33b12ba730e08a42",
     "locked": false,
     "schema_version": 1,
     "solution": true
    }
   },
   "outputs": [
    {
     "data": {
      "text/plain": [
       "0"
      ]
     },
     "execution_count": 31,
     "metadata": {},
     "output_type": "execute_result"
    }
   ],
   "source": [
    "# find the number of provoked attacks\n",
    "provoked_attacks = session.query(Sharks).filter_by(type = 'provoked').count()\n",
    "provoked_attacks"
   ]
  },
  {
   "cell_type": "code",
   "execution_count": 38,
   "metadata": {
    "deletable": false,
    "nbgrader": {
     "checksum": "625cca75f2e3869d61a4d1bb6aaa862d",
     "grade": false,
     "grade_id": "cell-4b1293d38480400d",
     "locked": false,
     "schema_version": 1,
     "solution": true
    }
   },
   "outputs": [
    {
     "data": {
      "text/plain": [
       "28"
      ]
     },
     "execution_count": 38,
     "metadata": {},
     "output_type": "execute_result"
    }
   ],
   "source": [
    "# find the number of attacks in USA\n",
    "USA_attacks = session.query(Sharks).filter_by(country = 'USA').count()\n",
    "USA_attacks"
   ]
  },
  {
   "cell_type": "code",
   "execution_count": 34,
   "metadata": {
    "deletable": false,
    "nbgrader": {
     "checksum": "5c44b8a34de6f5090552b1efa1c4d58e",
     "grade": false,
     "grade_id": "cell-5431c1fabaae9ed8",
     "locked": false,
     "schema_version": 1,
     "solution": true
    }
   },
   "outputs": [
    {
     "data": {
      "text/plain": [
       "3"
      ]
     },
     "execution_count": 34,
     "metadata": {},
     "output_type": "execute_result"
    }
   ],
   "source": [
    "# find the number of attacks in 2017\n",
    "attacks_2017 = session.query(Sharks).filter_by(year = 2017).count()\n",
    "attacks_2017"
   ]
  },
  {
   "cell_type": "code",
   "execution_count": 22,
   "metadata": {
    "deletable": false,
    "nbgrader": {
     "checksum": "6fb8eae592cf139c082c6f77d42e00aa",
     "grade": false,
     "grade_id": "cell-4de2402e47fe0214",
     "locked": false,
     "schema_version": 1,
     "solution": true
    }
   },
   "outputs": [
    {
     "data": {
      "text/plain": [
       "34"
      ]
     },
     "execution_count": 22,
     "metadata": {},
     "output_type": "execute_result"
    }
   ],
   "source": [
    "# find the number of attacks while surfing\n",
    "surfing_attacks = session.query(Sharks).filter(activity == 'surfing').count()\n",
    "surfing_attacks"
   ]
  },
  {
   "cell_type": "code",
   "execution_count": 21,
   "metadata": {
    "deletable": false,
    "nbgrader": {
     "checksum": "ac16e312f24b2a48fba9a384e600676f",
     "grade": false,
     "grade_id": "cell-9e2afa5b2f869a4f",
     "locked": false,
     "schema_version": 1,
     "solution": true
    }
   },
   "outputs": [
    {
     "data": {
      "text/plain": [
       "12"
      ]
     },
     "execution_count": 21,
     "metadata": {},
     "output_type": "execute_result"
    }
   ],
   "source": [
    "# find the number of fatal attacks\n",
    "fatal_attacks = session.query(Sharks).filter_by(fatal_y_n = 'Y').count()\n",
    "fatal_attacks"
   ]
  },
  {
   "cell_type": "code",
   "execution_count": 20,
   "metadata": {
    "deletable": false,
    "nbgrader": {
     "checksum": "099a489efed7a5379e3b22a0997c9465",
     "grade": false,
     "grade_id": "cell-75819f28900a2e54",
     "locked": false,
     "schema_version": 1,
     "solution": true
    }
   },
   "outputs": [
    {
     "data": {
      "text/plain": [
       "2"
      ]
     },
     "execution_count": 20,
     "metadata": {},
     "output_type": "execute_result"
    }
   ],
   "source": [
    "# find the number of fatal attacks while surfing\n",
    "fatal_surfing_attacks = session.query(Sharks).filter_by(fatal_y_n = 'Y', activity = 'surfing').count()\n",
    "fatal_surfing_attacks"
   ]
  },
  {
   "cell_type": "code",
   "execution_count": 19,
   "metadata": {
    "deletable": false,
    "nbgrader": {
     "checksum": "7e93397023f1706df0f8bec0a433137b",
     "grade": false,
     "grade_id": "cell-ef68003cff255319",
     "locked": false,
     "schema_version": 1,
     "solution": true
    }
   },
   "outputs": [
    {
     "data": {
      "text/plain": [
       "0"
      ]
     },
     "execution_count": 19,
     "metadata": {},
     "output_type": "execute_result"
    }
   ],
   "source": [
    "# find the number of fatal attacks in 2017 in Australia\n",
    "# find the number of attacks in 2017\n",
    "fatal_attacks_australia_2017 = session.query(Sharks).filter_by(year = 2017,\n",
    "                                                               fatal_y_n = 'Y',\n",
    "                                                               country='Australia').count()\n",
    "fatal_attacks_australia_2017"
   ]
  },
  {
   "cell_type": "code",
   "execution_count": null,
   "metadata": {
    "collapsed": true
   },
   "outputs": [],
   "source": []
  }
 ],
 "metadata": {
  "kernelspec": {
   "display_name": "Python 3",
   "language": "python",
   "name": "python3"
  },
  "language_info": {
   "codemirror_mode": {
    "name": "ipython",
    "version": 3
   },
   "file_extension": ".py",
   "mimetype": "text/x-python",
   "name": "python",
   "nbconvert_exporter": "python",
   "pygments_lexer": "ipython3",
   "version": "3.6.2"
  },
  "varInspector": {
   "cols": {
    "lenName": 16,
    "lenType": 16,
    "lenVar": 40
   },
   "kernels_config": {
    "python": {
     "delete_cmd_postfix": "",
     "delete_cmd_prefix": "del ",
     "library": "var_list.py",
     "varRefreshCmd": "print(var_dic_list())"
    },
    "r": {
     "delete_cmd_postfix": ") ",
     "delete_cmd_prefix": "rm(",
     "library": "var_list.r",
     "varRefreshCmd": "cat(var_dic_list()) "
    }
   },
   "types_to_exclude": [
    "module",
    "function",
    "builtin_function_or_method",
    "instance",
    "_Feature"
   ],
   "window_display": false
  }
 },
 "nbformat": 4,
 "nbformat_minor": 2
}
