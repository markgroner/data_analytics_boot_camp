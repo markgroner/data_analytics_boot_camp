{
 "cells": [
  {
   "cell_type": "code",
   "execution_count": 1,
   "metadata": {
    "collapsed": true,
    "slideshow": {
     "slide_type": "slide"
    }
   },
   "outputs": [],
   "source": [
    "# Dependencies and boilerplate\n",
    "from sqlalchemy import Column, Float, Integer, String\n",
    "from sqlalchemy.ext.declarative import declarative_base\n",
    "\n",
    "Base = declarative_base()"
   ]
  },
  {
   "cell_type": "markdown",
   "metadata": {},
   "source": [
    "* Next, create a `Prescription` class. It should keep track of the following information:\n",
    "\n",
    "  * The **name** of the drug the script is for. E.g.: `\"Amoxicillin\"`\n",
    "\n",
    "  * The **strength** of each dose in milligrams. E.g.: `25.5`\n",
    "\n",
    "  * The number of **doses per administration**. This is the \"number of pills\" a patient would take at each administration of the drug. \n",
    "  \n",
    "    * For example, `2` doses per administration implies the patient is to take two pills whenever the drug is administered.\n",
    "\n",
    "  * The **route of administration**. E.g.: `\"Oral\"`, `\"Intravenous\"`, etc.\n",
    "\n",
    "  * The number of **administrations per day**. This is how many times the patient is to take the drug over the course of the day. E.g.: `\"Twice daily\"`.\n",
    "\n",
    "  * The **total quantity to dispense**. This is the total number of pills/volume of solution the pharmacist filling the prescription is supposed to dispense. E.g: `\"120\"`.\n",
    "\n",
    "  * The **refill limit**. This is the number of times the patient can use this prescription. E.g.: `3`.\n",
    "\n",
    "  * The **refill frequency**. This is the frequency with which the patient can seek refills. E.g.: `\"Monthly\"`.\n"
   ]
  },
  {
   "cell_type": "code",
   "execution_count": 2,
   "metadata": {
    "deletable": false,
    "nbgrader": {
     "checksum": "fef3cb7bbc4f0dcc11fd470b2eb6aeb1",
     "grade": false,
     "grade_id": "cell-b43c0ebdf6e74efb",
     "locked": false,
     "schema_version": 1,
     "solution": true
    },
    "slideshow": {
     "slide_type": "slide"
    }
   },
   "outputs": [],
   "source": [
    "# Define a Prescription class\n",
    "class Prescription(Base):\n",
    "    __tablename__ = 'prescription'\n",
    "    id = Column(Integer, primary_key=True)\n",
    "    name = Column(String)\n",
    "    strength = Column(Float)\n",
    "    doses_per_administration = Column(Float)\n",
    "    route_of_administration = Column(String)\n",
    "    administrations_per_day = Column(String)\n",
    "    total_quantity_to_dispense = Column(Integer)\n",
    "    refill_limit = Column(Integer)\n",
    "    refill_frequency = Column(String)\n",
    "    \n",
    "    \n",
    "    \n",
    "    def __init__(self, name, strength, doses_per_administration,\n",
    "                 route_of_administration, administrations_per_day, \n",
    "                 total_quantity_to_dispense, refill_limit, refill_frequency):\n",
    "        self.name = name\n",
    "        self.strength = strength\n",
    "        self.doses_per_administration = doses_per_administration\n",
    "        self.route_of_administration = route_of_administration\n",
    "        self.administrations_per_day = administrations_per_day\n",
    "        self.total_quantity_to_dispense = total_quantity_to_dispense\n",
    "        self.refill_limit = refill_limit\n",
    "        self.refill_frequency = refill_frequency\n",
    "        "
   ]
  },
  {
   "cell_type": "code",
   "execution_count": 3,
   "metadata": {
    "deletable": false,
    "nbgrader": {
     "checksum": "cbd48d361406056117cefc80309cc1d4",
     "grade": false,
     "grade_id": "cell-de8bd89d19d0aea2",
     "locked": false,
     "schema_version": 1,
     "solution": true
    },
    "slideshow": {
     "slide_type": "slide"
    }
   },
   "outputs": [],
   "source": [
    "# Use a Session to test the Prescription class\n",
    "from sqlalchemy import create_engine\n",
    "from sqlalchemy.orm import Session\n",
    "\n",
    "engine = create_engine('sqlite:///prescriptions.sqlite')\n",
    "Base.metadata.create_all(engine)\n",
    "\n",
    "session = Session(bind=engine)"
   ]
  },
  {
   "cell_type": "code",
   "execution_count": 4,
   "metadata": {},
   "outputs": [
    {
     "data": {
      "text/plain": [
       "immutabledict({'prescription': Table('prescription', MetaData(bind=None), Column('id', Integer(), table=<prescription>, primary_key=True, nullable=False), Column('name', String(), table=<prescription>), Column('strength', Float(), table=<prescription>), Column('doses_per_administration', Float(), table=<prescription>), Column('route_of_administration', String(), table=<prescription>), Column('administrations_per_day', String(), table=<prescription>), Column('total_quantity_to_dispense', Integer(), table=<prescription>), Column('refill_limit', Integer(), table=<prescription>), Column('refill_frequency', String(), table=<prescription>), schema=None)})"
      ]
     },
     "execution_count": 4,
     "metadata": {},
     "output_type": "execute_result"
    }
   ],
   "source": [
    "Base.metadata.tables"
   ]
  },
  {
   "cell_type": "code",
   "execution_count": 7,
   "metadata": {
    "deletable": false,
    "nbgrader": {
     "checksum": "ce382cf217fb18aea00aab11a089af71",
     "grade": false,
     "grade_id": "cell-38fe3058a58abf2e",
     "locked": false,
     "schema_version": 1,
     "solution": true
    },
    "slideshow": {
     "slide_type": "slide"
    }
   },
   "outputs": [],
   "source": [
    "# Create and add two new scripts `haloperidol` and `theriac`\n",
    "haloperidol = Prescription(\n",
    "    name = 'haloperidol',\n",
    "    strength = 1.,\n",
    "    doses_per_administration = 2,\n",
    "    route_of_administration = 'oral',\n",
    "    administrations_per_day = 2,\n",
    "    total_quantity_to_dispense = 120, \n",
    "    refill_limit = 1,\n",
    "    refill_frequency = 'monthly' \n",
    ")\n",
    "\n",
    "theriac = Prescription(\n",
    "    name = 'theriac',\n",
    "    strength = 1000.,\n",
    "    doses_per_administration = 1,\n",
    "    route_of_administration = 'oral',\n",
    "    administrations_per_day = 3,\n",
    "    total_quantity_to_dispense = 90,\n",
    "    refill_limit = 0,\n",
    "    refill_frequency = 'never'\n",
    ")"
   ]
  },
  {
   "cell_type": "code",
   "execution_count": 8,
   "metadata": {
    "collapsed": true,
    "deletable": false,
    "nbgrader": {
     "checksum": "8e78cfe60255b7728561a2c534b713f1",
     "grade": false,
     "grade_id": "cell-7fd78fb9c3cdf739",
     "locked": false,
     "schema_version": 1,
     "solution": true
    },
    "slideshow": {
     "slide_type": "slide"
    }
   },
   "outputs": [],
   "source": [
    "# Add and commit the two new scripts\n",
    "session.add_all([haloperidol, theriac])\n",
    "session.commit()"
   ]
  },
  {
   "cell_type": "code",
   "execution_count": null,
   "metadata": {
    "collapsed": true
   },
   "outputs": [],
   "source": []
  },
  {
   "cell_type": "code",
   "execution_count": null,
   "metadata": {
    "collapsed": true,
    "deletable": false,
    "nbgrader": {
     "checksum": "26bac3017f5f4bb4f203d1b90ff09059",
     "grade": false,
     "grade_id": "cell-3127a3ebc13fd8eb",
     "locked": false,
     "schema_version": 1,
     "solution": true
    },
    "slideshow": {
     "slide_type": "slide"
    }
   },
   "outputs": [],
   "source": [
    "# Verify commit\n",
    "# YOUR CODE HERE\n",
    "\n",
    "print(haloperidol_record.name)\n",
    "print(\"-\" * 12)\n",
    "print(theriac_record.name)"
   ]
  }
 ],
 "metadata": {
  "anaconda-cloud": {},
  "kernelspec": {
   "display_name": "Python 3",
   "language": "python",
   "name": "python3"
  },
  "language_info": {
   "codemirror_mode": {
    "name": "ipython",
    "version": 3
   },
   "file_extension": ".py",
   "mimetype": "text/x-python",
   "name": "python",
   "nbconvert_exporter": "python",
   "pygments_lexer": "ipython3",
   "version": "3.6.2"
  },
  "varInspector": {
   "cols": {
    "lenName": 16,
    "lenType": 16,
    "lenVar": 40
   },
   "kernels_config": {
    "python": {
     "delete_cmd_postfix": "",
     "delete_cmd_prefix": "del ",
     "library": "var_list.py",
     "varRefreshCmd": "print(var_dic_list())"
    },
    "r": {
     "delete_cmd_postfix": ") ",
     "delete_cmd_prefix": "rm(",
     "library": "var_list.r",
     "varRefreshCmd": "cat(var_dic_list()) "
    }
   },
   "types_to_exclude": [
    "module",
    "function",
    "builtin_function_or_method",
    "instance",
    "_Feature"
   ],
   "window_display": false
  }
 },
 "nbformat": 4,
 "nbformat_minor": 1
}
