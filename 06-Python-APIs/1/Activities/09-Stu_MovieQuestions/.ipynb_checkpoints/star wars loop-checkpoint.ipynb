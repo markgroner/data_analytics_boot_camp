{
 "cells": [
  {
   "cell_type": "code",
   "execution_count": 4,
   "metadata": {
    "collapsed": true
   },
   "outputs": [],
   "source": [
    "# Dependencies\n",
    "import requests\n",
    "import json\n",
    "import random\n",
    "\n",
    "# URL for GET requests to retrieve Star Wars character data\n",
    "url = \"https://swapi.co/api/people/\"\n",
    "response_json = []"
   ]
  },
  {
   "cell_type": "code",
   "execution_count": 5,
   "metadata": {},
   "outputs": [
    {
     "name": "stdout",
     "output_type": "stream",
     "text": [
      "Making request number 0 for ID 67.\n",
      "Making request number 1 for ID 71.\n",
      "Making request number 2 for ID 68.\n",
      "Making request number 3 for ID 14.\n",
      "Making request number 4 for ID 45.\n",
      "Making request number 5 for ID 84.\n",
      "Making request number 6 for ID 16.\n",
      "Making request number 7 for ID 47.\n",
      "Making request number 8 for ID 69.\n",
      "Making request number 9 for ID 52.\n",
      "We have 10 posts!\n"
     ]
    }
   ],
   "source": [
    "# Create random indices representing, for instance, a user's choice of posts\n",
    "indices = random.sample(list(range(1, 100)), 10)\n",
    "\n",
    "for i in range(0, len(indices)):\n",
    "    print(\"Making request number \" + str(i) +\n",
    "          \" for ID \" + str(indices[i]) + \".\")\n",
    "\n",
    "    # Get post #i\n",
    "    post_response = requests.get(url + str(indices[i]))\n",
    "    print(post_response['name'])\n",
    "    # Save post's JSON\n",
    "    response_json.append(post_response.json())\n",
    "\n",
    "# Now we have 10 post objects, which we got by making 100 requests to the API.\n",
    "print(\"We have \" + str(len(response_json)) + \" posts!\")"
   ]
  },
  {
   "cell_type": "code",
   "execution_count": null,
   "metadata": {
    "collapsed": true
   },
   "outputs": [],
   "source": []
  }
 ],
 "metadata": {
  "kernelspec": {
   "display_name": "Python 3",
   "language": "python",
   "name": "python3"
  },
  "language_info": {
   "codemirror_mode": {
    "name": "ipython",
    "version": 3
   },
   "file_extension": ".py",
   "mimetype": "text/x-python",
   "name": "python",
   "nbconvert_exporter": "python",
   "pygments_lexer": "ipython3",
   "version": "3.6.2"
  }
 },
 "nbformat": 4,
 "nbformat_minor": 2
}
