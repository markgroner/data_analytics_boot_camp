{
 "cells": [
  {
   "cell_type": "code",
   "execution_count": 36,
   "metadata": {},
   "outputs": [],
   "source": [
    "# Dependencies\n",
    "import requests\n",
    "import json\n",
    "\n",
    "# URL for GET requests to retrieve Star Wars character data\n",
    "url = \"https://swapi.co/api/people/\"\n",
    "\n",
    "# Storing the JSON response within a variable\n",
    "data = requests.get(url + '4').json()\n",
    "\n"
   ]
  },
  {
   "cell_type": "code",
   "execution_count": 37,
   "metadata": {},
   "outputs": [
    {
     "name": "stdout",
     "output_type": "stream",
     "text": [
      "{\n",
      "    \"birth_year\": \"41.9BBY\",\n",
      "    \"created\": \"2014-12-10T15:18:20.704000Z\",\n",
      "    \"edited\": \"2014-12-20T21:17:50.313000Z\",\n",
      "    \"eye_color\": \"yellow\",\n",
      "    \"films\": [\n",
      "        \"https://swapi.co/api/films/2/\",\n",
      "        \"https://swapi.co/api/films/6/\",\n",
      "        \"https://swapi.co/api/films/3/\",\n",
      "        \"https://swapi.co/api/films/1/\"\n",
      "    ],\n",
      "    \"gender\": \"male\",\n",
      "    \"hair_color\": \"none\",\n",
      "    \"height\": \"202\",\n",
      "    \"homeworld\": \"https://swapi.co/api/planets/1/\",\n",
      "    \"mass\": \"136\",\n",
      "    \"name\": \"Darth Vader\",\n",
      "    \"skin_color\": \"white\",\n",
      "    \"species\": [\n",
      "        \"https://swapi.co/api/species/1/\"\n",
      "    ],\n",
      "    \"starships\": [\n",
      "        \"https://swapi.co/api/starships/13/\"\n",
      "    ],\n",
      "    \"url\": \"https://swapi.co/api/people/4/\",\n",
      "    \"vehicles\": []\n",
      "}\n"
     ]
    }
   ],
   "source": [
    "print(json.dumps(data, indent=4, sort_keys=True))\n"
   ]
  },
  {
   "cell_type": "code",
   "execution_count": 41,
   "metadata": {},
   "outputs": [
    {
     "data": {
      "text/plain": [
       "'Darth Vader'"
      ]
     },
     "execution_count": 41,
     "metadata": {},
     "output_type": "execute_result"
    }
   ],
   "source": [
    "# Collecting the name of the character collected\n",
    "character_name = data['name']\n",
    "character_name\n"
   ]
  },
  {
   "cell_type": "code",
   "execution_count": 42,
   "metadata": {},
   "outputs": [
    {
     "data": {
      "text/plain": [
       "4"
      ]
     },
     "execution_count": 42,
     "metadata": {},
     "output_type": "execute_result"
    }
   ],
   "source": [
    "# Counting how many films the character was in\n",
    "number_of_films = len(data['films'])\n",
    "number_of_films\n"
   ]
  },
  {
   "cell_type": "code",
   "execution_count": 53,
   "metadata": {},
   "outputs": [
    {
     "data": {
      "text/plain": [
       "'TIE Advanced x1'"
      ]
     },
     "execution_count": 53,
     "metadata": {},
     "output_type": "execute_result"
    }
   ],
   "source": [
    "# Figure out what their first starship was\n",
    "first_star_ship_url, = data['starships']\n",
    "starship_data = requests.get(first_star_ship_url).json()\n",
    "first_star_ship_name = starship_data['name']\n",
    "first_star_ship_name\n"
   ]
  },
  {
   "cell_type": "code",
   "execution_count": 44,
   "metadata": {},
   "outputs": [
    {
     "name": "stdout",
     "output_type": "stream",
     "text": [
      "Darth Vader was in 4 Star Wars films\n"
     ]
    }
   ],
   "source": [
    "# Print character name and how many films they were in\n",
    "print('%s was in %i Star Wars films' % (character_name, number_of_films))\n"
   ]
  },
  {
   "cell_type": "code",
   "execution_count": 54,
   "metadata": {},
   "outputs": [
    {
     "name": "stdout",
     "output_type": "stream",
     "text": [
      "Darth Vader's first starship was TIE Advanced x1\n"
     ]
    }
   ],
   "source": [
    "# Print what their first ship was\n",
    "print(\"%s's first starship was %s\" % (character_name, first_star_ship_name))\n"
   ]
  }
 ],
 "metadata": {
  "kernelspec": {
   "display_name": "Python 3",
   "language": "python",
   "name": "python3"
  },
  "language_info": {
   "codemirror_mode": {
    "name": "ipython",
    "version": 3
   },
   "file_extension": ".py",
   "mimetype": "text/x-python",
   "name": "python",
   "nbconvert_exporter": "python",
   "pygments_lexer": "ipython3",
   "version": "3.6.2"
  }
 },
 "nbformat": 4,
 "nbformat_minor": 2
}
