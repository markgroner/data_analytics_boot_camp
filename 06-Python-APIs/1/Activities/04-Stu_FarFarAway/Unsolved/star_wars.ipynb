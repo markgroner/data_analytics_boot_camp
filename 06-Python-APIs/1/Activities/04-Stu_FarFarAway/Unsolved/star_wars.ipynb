{
 "cells": [
  {
   "cell_type": "code",
   "execution_count": 86,
   "metadata": {},
   "outputs": [],
   "source": [
    "# Dependencies\n",
    "import requests\n",
    "import json\n",
    "\n",
    "# URL for GET requests to retrieve Star Wars character data\n",
    "url = \"https://swapi.co/api/people/\"\n",
    "\n",
    "# Storing the JSON response within a variable\n",
    "data = requests.get(url + '11').json()\n",
    "\n"
   ]
  },
  {
   "cell_type": "code",
   "execution_count": 87,
   "metadata": {},
   "outputs": [
    {
     "name": "stdout",
     "output_type": "stream",
     "text": [
      "{\n",
      "    \"birth_year\": \"41.9BBY\",\n",
      "    \"created\": \"2014-12-10T16:20:44.310000Z\",\n",
      "    \"edited\": \"2014-12-20T21:17:50.327000Z\",\n",
      "    \"eye_color\": \"blue\",\n",
      "    \"films\": [\n",
      "        \"https://swapi.co/api/films/5/\",\n",
      "        \"https://swapi.co/api/films/4/\",\n",
      "        \"https://swapi.co/api/films/6/\"\n",
      "    ],\n",
      "    \"gender\": \"male\",\n",
      "    \"hair_color\": \"blond\",\n",
      "    \"height\": \"188\",\n",
      "    \"homeworld\": \"https://swapi.co/api/planets/1/\",\n",
      "    \"mass\": \"84\",\n",
      "    \"name\": \"Anakin Skywalker\",\n",
      "    \"skin_color\": \"fair\",\n",
      "    \"species\": [\n",
      "        \"https://swapi.co/api/species/1/\"\n",
      "    ],\n",
      "    \"starships\": [\n",
      "        \"https://swapi.co/api/starships/59/\",\n",
      "        \"https://swapi.co/api/starships/65/\",\n",
      "        \"https://swapi.co/api/starships/39/\"\n",
      "    ],\n",
      "    \"url\": \"https://swapi.co/api/people/11/\",\n",
      "    \"vehicles\": [\n",
      "        \"https://swapi.co/api/vehicles/44/\",\n",
      "        \"https://swapi.co/api/vehicles/46/\"\n",
      "    ]\n",
      "}\n"
     ]
    }
   ],
   "source": [
    "print(json.dumps(data, indent=4, sort_keys=True))\n"
   ]
  },
  {
   "cell_type": "code",
   "execution_count": 88,
   "metadata": {},
   "outputs": [
    {
     "data": {
      "text/plain": [
       "'Anakin Skywalker'"
      ]
     },
     "execution_count": 88,
     "metadata": {},
     "output_type": "execute_result"
    }
   ],
   "source": [
    "# Collecting the name of the character collected\n",
    "character_name = data['name']\n",
    "character_name\n"
   ]
  },
  {
   "cell_type": "code",
   "execution_count": 89,
   "metadata": {},
   "outputs": [
    {
     "data": {
      "text/plain": [
       "3"
      ]
     },
     "execution_count": 89,
     "metadata": {},
     "output_type": "execute_result"
    }
   ],
   "source": [
    "# Counting how many films the character was in\n",
    "number_of_films = len(data['films'])\n",
    "number_of_films\n"
   ]
  },
  {
   "cell_type": "code",
   "execution_count": 90,
   "metadata": {},
   "outputs": [
    {
     "data": {
      "text/plain": [
       "'Trade Federation cruiser'"
      ]
     },
     "execution_count": 90,
     "metadata": {},
     "output_type": "execute_result"
    }
   ],
   "source": [
    "# Figure out what their first starship was\n",
    "first_star_ship_url = data['starships'][0]\n",
    "starship_data = requests.get(first_star_ship_url).json()\n",
    "first_star_ship_name = starship_data['name']\n",
    "first_star_ship_name\n"
   ]
  },
  {
   "cell_type": "code",
   "execution_count": 91,
   "metadata": {},
   "outputs": [
    {
     "name": "stdout",
     "output_type": "stream",
     "text": [
      "Anakin Skywalker was in 3 Star Wars films\n"
     ]
    }
   ],
   "source": [
    "# Print character name and how many films they were in\n",
    "print('%s was in %i Star Wars films' % (character_name, number_of_films))\n"
   ]
  },
  {
   "cell_type": "code",
   "execution_count": 92,
   "metadata": {},
   "outputs": [
    {
     "name": "stdout",
     "output_type": "stream",
     "text": [
      "Anakin Skywalker's first starship was Trade Federation cruiser\n"
     ]
    }
   ],
   "source": [
    "# Print what their first ship was\n",
    "print(\"%s's first starship was %s\" % (character_name, first_star_ship_name))\n"
   ]
  },
  {
   "cell_type": "code",
   "execution_count": null,
   "metadata": {
    "collapsed": true
   },
   "outputs": [],
   "source": []
  }
 ],
 "metadata": {
  "kernelspec": {
   "display_name": "Python 3",
   "language": "python",
   "name": "python3"
  },
  "language_info": {
   "codemirror_mode": {
    "name": "ipython",
    "version": 3
   },
   "file_extension": ".py",
   "mimetype": "text/x-python",
   "name": "python",
   "nbconvert_exporter": "python",
   "pygments_lexer": "ipython3",
   "version": "3.6.2"
  }
 },
 "nbformat": 4,
 "nbformat_minor": 2
}
