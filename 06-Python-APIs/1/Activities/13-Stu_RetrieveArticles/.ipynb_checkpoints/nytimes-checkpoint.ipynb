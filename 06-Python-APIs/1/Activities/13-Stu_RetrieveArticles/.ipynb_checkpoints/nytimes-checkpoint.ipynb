{
 "cells": [
  {
   "cell_type": "code",
   "execution_count": 9,
   "metadata": {},
   "outputs": [
    {
     "name": "stdout",
     "output_type": "stream",
     "text": [
      "Your Reading List\n",
      "\n",
      "https://www.nytimes.com/2017/10/12/movies/the-party-movie.html\n",
      "https://www.nytimes.com/2017/11/01/style/bette-midler-hulaween-new-york-restoration-project.html\n",
      "https://www.nytimes.com/2017/10/17/style/hammer-museum-gala-harvey-weinstein-sarah-jessica-parker-hailey-baldwin-haim.html\n",
      "https://www.nytimes.com/slideshow/2017/10/31/style/bette-midler-hulaween-benefit.html\n",
      "https://www.nytimes.com/slideshow/2017/11/03/style/womens-media-center-the-metropolitan-museum-of-art-fabulous-fund-fair-studio-museum-harlem-benefits.html\n",
      "https://www.nytimes.com/slideshow/2017/10/27/style/hair-turns-50.html\n",
      "https://www.nytimes.com/slideshow/2017/10/24/fashion/bella-hadid-misty-copeland-jill-biden-at-bulgari-store-reopening.html\n",
      "https://www.nytimes.com/slideshow/2017/10/20/style/feeding-the-needy.html\n",
      "https://www.nytimes.com/2017/10/25/style/mariah-carey-karl-lagerfeld-dinner.html\n",
      "https://www.nytimes.com/slideshow/2017/10/17/style/sarah-jessica-parker-hailey-baldwin-and-haim-at-the-hammer-gala.html\n"
     ]
    }
   ],
   "source": [
    "# Dependencies\n",
    "import requests as req\n",
    "\n",
    "url = \"https://api.nytimes.com/svc/search/v2/articlesearch.json?\"\n",
    "api_key = 'f0feabc31ac64591bda6d9d60d1c5421'\n",
    "\n",
    "# Search for articles that mention granola\n",
    "q = \"party\"\n",
    "begin_date = 20160514\n",
    "end_date = 20160701\n",
    "\n",
    "# Build query URL\n",
    "query = url + \"api-key=\" + api_key + \"&q=\" + q + '&=begin_date' + str(begin_date) + '&=end_date' + str(end_date)\n",
    "\n",
    "# Populate articles\n",
    "articles = req.get(query).json()\n",
    "\n",
    "# The \"response\" property in articles contains the actual articles\n",
    "# list comprehension.\n",
    "_articles = [article for article in articles[\"response\"][\"docs\"]]\n",
    "\n",
    "# Proof articles stored\n",
    "print(\"Your Reading List\\n\")\n",
    "for article in _articles:\n",
    "    print(article[\"web_url\"])"
   ]
  },
  {
   "cell_type": "code",
   "execution_count": null,
   "metadata": {
    "collapsed": true
   },
   "outputs": [],
   "source": []
  }
 ],
 "metadata": {
  "kernelspec": {
   "display_name": "Python 3",
   "language": "python",
   "name": "python3"
  },
  "language_info": {
   "codemirror_mode": {
    "name": "ipython",
    "version": 3
   },
   "file_extension": ".py",
   "mimetype": "text/x-python",
   "name": "python",
   "nbconvert_exporter": "python",
   "pygments_lexer": "ipython3",
   "version": "3.6.2"
  }
 },
 "nbformat": 4,
 "nbformat_minor": 2
}
