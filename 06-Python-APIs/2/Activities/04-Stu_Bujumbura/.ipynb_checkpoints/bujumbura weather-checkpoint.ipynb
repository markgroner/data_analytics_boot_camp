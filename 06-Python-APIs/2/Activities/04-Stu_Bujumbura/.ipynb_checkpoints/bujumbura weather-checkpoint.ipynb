{
 "cells": [
  {
   "cell_type": "code",
   "execution_count": 28,
   "metadata": {},
   "outputs": [
    {
     "name": "stdout",
     "output_type": "stream",
     "text": [
      "296bea0a420032d500e450ade0c2d0e7\n"
     ]
    }
   ],
   "source": [
    "import json\n",
    "import requests\n",
    "from config import api_key\n"
   ]
  },
  {
   "cell_type": "code",
   "execution_count": 40,
   "metadata": {
    "collapsed": true
   },
   "outputs": [],
   "source": [
    "## Save all of your \"config\" informationâ€”i.e., your API key; the base URL; etc.â€”before moving on.\n",
    "base_url = 'http://api.openweathermap.org/data/2.5/weather?'"
   ]
  },
  {
   "cell_type": "code",
   "execution_count": 41,
   "metadata": {
    "collapsed": true
   },
   "outputs": [],
   "source": [
    "# Build your query URL. Check the documentation to figure out how to request temperatures in Celsius.\n",
    "city = 'Bujumbura'\n",
    "units = 'metric'\n",
    "fahrenheit = 'imperial'\n",
    "params = {'APPID': api_key,\n",
    "         'q': city,\n",
    "         'units': units}\n"
   ]
  },
  {
   "cell_type": "code",
   "execution_count": 42,
   "metadata": {},
   "outputs": [
    {
     "data": {
      "text/plain": [
       "{'base': 'stations',\n",
       " 'clouds': {'all': 48},\n",
       " 'cod': 200,\n",
       " 'coord': {'lat': -3.38, 'lon': 29.36},\n",
       " 'dt': 1510280539,\n",
       " 'id': 425378,\n",
       " 'main': {'grnd_level': 856.26,\n",
       "  'humidity': 100,\n",
       "  'pressure': 856.26,\n",
       "  'sea_level': 1023.7,\n",
       "  'temp': 15.52,\n",
       "  'temp_max': 15.52,\n",
       "  'temp_min': 15.52},\n",
       " 'name': 'Bujumbura',\n",
       " 'sys': {'country': 'BI',\n",
       "  'message': 0.1644,\n",
       "  'sunrise': 1510285124,\n",
       "  'sunset': 1510329252},\n",
       " 'weather': [{'description': 'scattered clouds',\n",
       "   'icon': '03n',\n",
       "   'id': 802,\n",
       "   'main': 'Clouds'}],\n",
       " 'wind': {'deg': 36.5006, 'speed': 1.52}}"
      ]
     },
     "execution_count": 42,
     "metadata": {},
     "output_type": "execute_result"
    }
   ],
   "source": [
    "# Make your request, and save the API's response.\n",
    "response = requests.get(base_url, params=params)\n",
    "data_json = response.json()\n",
    "data_json"
   ]
  },
  {
   "cell_type": "code",
   "execution_count": 43,
   "metadata": {
    "collapsed": true
   },
   "outputs": [],
   "source": [
    "# Retrieve the current temperature in Bujumbura from the JSON response.\n",
    "celsius_temp = data_json['main']['temp']"
   ]
  },
  {
   "cell_type": "code",
   "execution_count": 44,
   "metadata": {},
   "outputs": [
    {
     "data": {
      "text/plain": [
       "15.52"
      ]
     },
     "execution_count": 44,
     "metadata": {},
     "output_type": "execute_result"
    }
   ],
   "source": [
    "# Print the temperature to the console.\n",
    "celsius_temp"
   ]
  },
  {
   "cell_type": "code",
   "execution_count": 46,
   "metadata": {},
   "outputs": [
    {
     "data": {
      "text/plain": [
       "59.93"
      ]
     },
     "execution_count": 46,
     "metadata": {},
     "output_type": "execute_result"
    }
   ],
   "source": [
    "## Bonus\n",
    "\n",
    "#* Augment your code to report the temperature in both Fahrenheit _and_ Celsius.\n",
    "city = 'Bujumbura'\n",
    "units = 'imperial'\n",
    "params = {'appid': api_key,\n",
    "         'q': city,\n",
    "         'units': units}\n",
    "response = requests.get(base_url, params=params)\n",
    "data_json = response.json()\n",
    "fahrenheit_temp = data_json['main']['temp']\n",
    "fahrenheit_temp"
   ]
  },
  {
   "cell_type": "code",
   "execution_count": null,
   "metadata": {
    "collapsed": true
   },
   "outputs": [],
   "source": []
  },
  {
   "cell_type": "code",
   "execution_count": null,
   "metadata": {
    "collapsed": true
   },
   "outputs": [],
   "source": []
  }
 ],
 "metadata": {
  "kernelspec": {
   "display_name": "Python 3",
   "language": "python",
   "name": "python3"
  },
  "language_info": {
   "codemirror_mode": {
    "name": "ipython",
    "version": 3
   },
   "file_extension": ".py",
   "mimetype": "text/x-python",
   "name": "python",
   "nbconvert_exporter": "python",
   "pygments_lexer": "ipython3",
   "version": "3.6.2"
  }
 },
 "nbformat": 4,
 "nbformat_minor": 2
}
