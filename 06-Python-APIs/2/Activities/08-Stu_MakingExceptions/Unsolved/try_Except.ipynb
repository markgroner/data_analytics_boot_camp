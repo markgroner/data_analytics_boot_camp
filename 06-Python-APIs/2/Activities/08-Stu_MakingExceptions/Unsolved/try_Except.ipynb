{
 "cells": [
  {
   "cell_type": "code",
   "execution_count": 15,
   "metadata": {},
   "outputs": [],
   "source": [
    "# Your assignment is to get the last line to print without changing any\n",
    "# of the code below. Instead, wrap each line that throws an error in a\n",
    "# try/except block.\n",
    "\n"
   ]
  },
  {
   "cell_type": "code",
   "execution_count": 16,
   "metadata": {},
   "outputs": [
    {
     "name": "stdout",
     "output_type": "stream",
     "text": [
      "You can't divide by zero\n"
     ]
    }
   ],
   "source": [
    "try:\n",
    "    print(\"Infinity looks like + \" + str(10 / 0) + \".\")\n",
    "except ZeroDivisionError:\n",
    "    print(\"You can't divide by zero\")"
   ]
  },
  {
   "cell_type": "code",
   "execution_count": 17,
   "metadata": {},
   "outputs": [
    {
     "name": "stdout",
     "output_type": "stream",
     "text": [
      "The variable does not exist\n"
     ]
    }
   ],
   "source": [
    "try:\n",
    "    print(\"I think her name was + \" + name + \"?\")\n",
    "except NameError:\n",
    "    print('The variable does not exist')"
   ]
  },
  {
   "cell_type": "code",
   "execution_count": 18,
   "metadata": {},
   "outputs": [
    {
     "name": "stdout",
     "output_type": "stream",
     "text": [
      "Strings cannot be converted to integers\n"
     ]
    }
   ],
   "source": [
    "try:\n",
    "    print(\"Your name is a nonsense number. Look: \" + int(\"Gabriel\"))\n",
    "except ValueError:\n",
    "    print('Strings cannot be converted to integers')"
   ]
  },
  {
   "cell_type": "code",
   "execution_count": 19,
   "metadata": {},
   "outputs": [
    {
     "name": "stdout",
     "output_type": "stream",
     "text": [
      "You made it through the gauntlet--the message survived!\n"
     ]
    }
   ],
   "source": [
    "print(\"You made it through the gauntlet--the message survived!\")\n"
   ]
  },
  {
   "cell_type": "code",
   "execution_count": null,
   "metadata": {
    "collapsed": true
   },
   "outputs": [],
   "source": []
  }
 ],
 "metadata": {
  "kernelspec": {
   "display_name": "Python 3",
   "language": "python",
   "name": "python3"
  },
  "language_info": {
   "codemirror_mode": {
    "name": "ipython",
    "version": 3
   },
   "file_extension": ".py",
   "mimetype": "text/x-python",
   "name": "python",
   "nbconvert_exporter": "python",
   "pygments_lexer": "ipython3",
   "version": "3.6.2"
  }
 },
 "nbformat": 4,
 "nbformat_minor": 2
}
