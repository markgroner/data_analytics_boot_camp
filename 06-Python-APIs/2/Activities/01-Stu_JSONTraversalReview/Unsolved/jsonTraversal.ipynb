{
 "cells": [
  {
   "cell_type": "code",
   "execution_count": 25,
   "metadata": {},
   "outputs": [
    {
     "data": {
      "text/plain": [
       "{'apiVersion': '2.0',\n",
       " 'data': {'items': [{'accessControl': {'comment': 'allowed',\n",
       "     'commentVote': 'allowed',\n",
       "     'embed': 'allowed',\n",
       "     'list': 'allowed',\n",
       "     'rate': 'allowed',\n",
       "     'syndicate': 'allowed',\n",
       "     'videoRespond': 'moderated'},\n",
       "    'aspectRatio': 'widescreen',\n",
       "    'category': 'News',\n",
       "    'commentCount': 22,\n",
       "    'content': {'1': 'rtsp://v5.cache3.c.youtube.com/CiILENy.../0/0/0/video.3gp',\n",
       "     '5': 'http://www.youtube.com/v/hYB0mn5zh2c?f...',\n",
       "     '6': 'rtsp://v1.cache1.c.youtube.com/CiILENy.../0/0/0/video.3gp'},\n",
       "    'description': 'Google Maps API Introduction ...',\n",
       "    'duration': 2840,\n",
       "    'favoriteCount': 201,\n",
       "    'id': 'hYB0mn5zh2c',\n",
       "    'player': {'default': 'http://www.youtube.com/watch?vu003dhYB0mn5zh2c'},\n",
       "    'rating': 4.63,\n",
       "    'ratingCount': 68,\n",
       "    'status': {'reason': 'limitedSyndication', 'value': 'restricted'},\n",
       "    'tags': ['GDD07', 'GDD07US', 'Maps'],\n",
       "    'thumbnail': {'default': 'http://i.ytimg.com/vi/hYB0mn5zh2c/default.jpg',\n",
       "     'hqDefault': 'http://i.ytimg.com/vi/hYB0mn5zh2c/hqdefault.jpg'},\n",
       "    'title': 'Google Developers Day US - Maps API Introduction',\n",
       "    'updated': '2010-01-07T13:26:50.000Z',\n",
       "    'uploaded': '2007-06-05T22:07:03.000Z',\n",
       "    'uploader': 'GoogleDeveloperDay',\n",
       "    'viewCount': 220101}],\n",
       "  'itemsPerPage': 1,\n",
       "  'startIndex': 1,\n",
       "  'totalItems': 800,\n",
       "  'updated': '2010-01-07T19:58:42.949Z'}}"
      ]
     },
     "execution_count": 25,
     "metadata": {},
     "output_type": "execute_result"
    }
   ],
   "source": [
    "# Dependencies\n",
    "import json\n",
    "import os\n",
    "# Load JSON\n",
    "video_path = os.path.join('..','Resources/youtube_response.json')\n",
    "with open(video_path) as jsonfile:\n",
    "    video_json = json.load(jsonfile)\n",
    "video_json"
   ]
  },
  {
   "cell_type": "code",
   "execution_count": 26,
   "metadata": {},
   "outputs": [
    {
     "data": {
      "text/plain": [
       "'Google Developers Day US - Maps API Introduction'"
      ]
     },
     "execution_count": 26,
     "metadata": {},
     "output_type": "execute_result"
    }
   ],
   "source": [
    "# Retrieve the video’s title\n",
    "data_items_json, = video_json['data']['items']\n",
    "title = data_items_json['title']\n",
    "title"
   ]
  },
  {
   "cell_type": "code",
   "execution_count": 27,
   "metadata": {},
   "outputs": [
    {
     "data": {
      "text/plain": [
       "4.63"
      ]
     },
     "execution_count": 27,
     "metadata": {},
     "output_type": "execute_result"
    }
   ],
   "source": [
    "# Retrieve the video’s rating\n",
    "data_items_json, = video_json['data']['items']\n",
    "rating = data_items_json['rating']\n",
    "rating"
   ]
  },
  {
   "cell_type": "code",
   "execution_count": 28,
   "metadata": {},
   "outputs": [
    {
     "data": {
      "text/plain": [
       "'http://i.ytimg.com/vi/hYB0mn5zh2c/default.jpg'"
      ]
     },
     "execution_count": 28,
     "metadata": {},
     "output_type": "execute_result"
    }
   ],
   "source": [
    "# Retrieve the link to the video’s thumbnail\n",
    "data_items_json, = video_json['data']['items']\n",
    "thumbnail = data_items_json['thumbnail']['default']\n",
    "thumbnail"
   ]
  },
  {
   "cell_type": "code",
   "execution_count": 29,
   "metadata": {},
   "outputs": [
    {
     "data": {
      "text/plain": [
       "220101"
      ]
     },
     "execution_count": 29,
     "metadata": {},
     "output_type": "execute_result"
    }
   ],
   "source": [
    "# Retrieve the number of views this video has\n",
    "data_items_json, = video_json['data']['items']\n",
    "view_count = data_items_json['viewCount']\n",
    "view_count"
   ]
  }
 ],
 "metadata": {
  "kernelspec": {
   "display_name": "Python 3",
   "language": "python",
   "name": "python3"
  },
  "language_info": {
   "codemirror_mode": {
    "name": "ipython",
    "version": 3
   },
   "file_extension": ".py",
   "mimetype": "text/x-python",
   "name": "python",
   "nbconvert_exporter": "python",
   "pygments_lexer": "ipython3",
   "version": "3.6.2"
  }
 },
 "nbformat": 4,
 "nbformat_minor": 2
}
