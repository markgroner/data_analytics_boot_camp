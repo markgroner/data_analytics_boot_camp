{
 "cells": [
  {
   "cell_type": "code",
   "execution_count": 5,
   "metadata": {
    "collapsed": true
   },
   "outputs": [],
   "source": [
    "# import necessary libraries\n",
    "import pandas as pd\n",
    "\n",
    "from sqlalchemy.ext.automap import automap_base\n",
    "from sqlalchemy.orm import Session\n",
    "from sqlalchemy import create_engine, inspect, func\n",
    "\n",
    "from flask import (\n",
    "    Flask,\n",
    "    render_template,\n",
    "    jsonify)\n"
   ]
  },
  {
   "cell_type": "code",
   "execution_count": 2,
   "metadata": {
    "collapsed": true
   },
   "outputs": [],
   "source": [
    "#################################################\n",
    "# Database Setup\n",
    "#################################################\n",
    "engine = create_engine(\"sqlite:///db/bigfoot.sqlite\")\n",
    "\n",
    "# reflect an existing database into a new model\n",
    "Base = automap_base()\n",
    "# reflect the tables\n",
    "Base.prepare(engine, reflect=True)\n",
    "\n",
    "# Save references to the table\n",
    "Bigfoot = Base.classes.bigfoot\n",
    "\n",
    "# Create our session (link) from Python to the DB\n",
    "session = Session(engine)"
   ]
  },
  {
   "cell_type": "code",
   "execution_count": 6,
   "metadata": {},
   "outputs": [
    {
     "data": {
      "text/plain": [
       "['bigfoot']"
      ]
     },
     "execution_count": 6,
     "metadata": {},
     "output_type": "execute_result"
    }
   ],
   "source": [
    "inspector = inspect(engine)\n",
    "inspector.get_table_names()"
   ]
  },
  {
   "cell_type": "code",
   "execution_count": 7,
   "metadata": {},
   "outputs": [
    {
     "name": "stdout",
     "output_type": "stream",
     "text": [
      "id INTEGER\n",
      "number INTEGER\n",
      "title TEXT\n",
      "classification TEXT\n",
      "timestamp TEXT\n",
      "latitude FLOAT\n",
      "longitude FLOAT\n"
     ]
    }
   ],
   "source": [
    "# Get a list of column names and types\n",
    "columns = inspector.get_columns('bigfoot')\n",
    "for c in columns:\n",
    "    print(c['name'], c[\"type\"])\n",
    "# columns"
   ]
  },
  {
   "cell_type": "code",
   "execution_count": 8,
   "metadata": {},
   "outputs": [
    {
     "data": {
      "text/plain": [
       "[(1, 637, \"Report 637: Campers' encounter just after dark in the Wrangell - St. Elias National Park and Preserve\", 'Class A', '2000-06-16T12:00:00Z', 61.5, -142.9),\n",
       " (2, 2917, 'Report 2917: Family observes large biped from car', 'Class A', '1995-05-15T12:00:00Z', 55.1872, -132.7982),\n",
       " (3, 7963, 'Report 7963: Sasquatch walks past window of house at night', 'Class A', '2004-02-09T12:00:00Z', 55.2035, -132.8202),\n",
       " (4, 9317, 'Report 9317: Driver on Alcan Highway has noon, road encounter near Alaska-Canada border', 'Class A', '2004-06-18T12:00:00Z', 62.9375, -141.5667),\n",
       " (5, 13038, 'Report 13038: Snowmobiler has encounter in deep snow near Potter, AK', 'Class A', '2004-02-15T12:00:00Z', 61.0595, -149.7853)]"
      ]
     },
     "execution_count": 8,
     "metadata": {},
     "output_type": "execute_result"
    }
   ],
   "source": [
    "engine.execute('SELECT * FROM bigfoot LIMIT 5').fetchall()\n"
   ]
  },
  {
   "cell_type": "code",
   "execution_count": 17,
   "metadata": {},
   "outputs": [
    {
     "data": {
      "text/plain": [
       "[('1869', 1),\n",
       " ('1921', 1),\n",
       " ('1925', 1),\n",
       " ('1930', 1),\n",
       " ('1932', 1),\n",
       " ('1934', 1),\n",
       " ('1937', 1),\n",
       " ('1938', 1),\n",
       " ('1941', 1),\n",
       " ('1942', 1),\n",
       " ('1944', 2),\n",
       " ('1947', 1),\n",
       " ('1948', 1),\n",
       " ('1949', 2),\n",
       " ('1950', 3),\n",
       " ('1952', 1),\n",
       " ('1953', 2),\n",
       " ('1954', 1),\n",
       " ('1955', 3),\n",
       " ('1956', 4),\n",
       " ('1957', 4),\n",
       " ('1958', 6),\n",
       " ('1959', 1),\n",
       " ('1960', 6),\n",
       " ('1961', 9),\n",
       " ('1962', 6),\n",
       " ('1963', 10),\n",
       " ('1964', 9),\n",
       " ('1965', 10),\n",
       " ('1966', 7),\n",
       " ('1967', 13),\n",
       " ('1968', 13),\n",
       " ('1969', 18),\n",
       " ('1970', 27),\n",
       " ('1971', 21),\n",
       " ('1972', 30),\n",
       " ('1973', 28),\n",
       " ('1974', 38),\n",
       " ('1975', 46),\n",
       " ('1976', 39),\n",
       " ('1977', 64),\n",
       " ('1978', 82),\n",
       " ('1979', 47),\n",
       " ('1980', 72),\n",
       " ('1981', 43),\n",
       " ('1982', 46),\n",
       " ('1983', 45),\n",
       " ('1984', 36),\n",
       " ('1985', 34),\n",
       " ('1986', 48),\n",
       " ('1987', 37),\n",
       " ('1988', 33),\n",
       " ('1989', 30),\n",
       " ('1990', 40),\n",
       " ('1991', 42),\n",
       " ('1992', 31),\n",
       " ('1993', 43),\n",
       " ('1994', 56),\n",
       " ('1995', 48),\n",
       " ('1996', 54),\n",
       " ('1997', 78),\n",
       " ('1998', 80),\n",
       " ('1999', 66),\n",
       " ('2000', 145),\n",
       " ('2001', 135),\n",
       " ('2002', 108),\n",
       " ('2003', 154),\n",
       " ('2004', 250),\n",
       " ('2005', 226),\n",
       " ('2006', 189),\n",
       " ('2007', 170),\n",
       " ('2008', 145),\n",
       " ('2009', 123),\n",
       " ('2010', 95),\n",
       " ('2011', 118),\n",
       " ('2012', 132),\n",
       " ('2013', 104),\n",
       " ('2014', 87),\n",
       " ('2015', 59),\n",
       " ('2016', 34),\n",
       " ('2017', 9),\n",
       " ('2053', 1)]"
      ]
     },
     "execution_count": 17,
     "metadata": {},
     "output_type": "execute_result"
    }
   ],
   "source": [
    "# Create a query for the `Month` and `Sightings Count`\n",
    "# Hint: You will need to use `func.strftime` and `func.count`. Group the results by the month.\n",
    "### BEGIN SOLUTION\n",
    "results = session.query(func.strftime(\"%Y\", Bigfoot.timestamp),\\\n",
    "                        func.count(Bigfoot.timestamp)).\\\n",
    "                        group_by(func.strftime(\"%Y\", Bigfoot.timestamp)).all()\n",
    "results"
   ]
  },
  {
   "cell_type": "code",
   "execution_count": null,
   "metadata": {
    "collapsed": true
   },
   "outputs": [],
   "source": []
  }
 ],
 "metadata": {
  "kernelspec": {
   "display_name": "Python 3",
   "language": "python",
   "name": "python3"
  },
  "language_info": {
   "codemirror_mode": {
    "name": "ipython",
    "version": 3
   },
   "file_extension": ".py",
   "mimetype": "text/x-python",
   "name": "python",
   "nbconvert_exporter": "python",
   "pygments_lexer": "ipython3",
   "version": "3.6.2"
  }
 },
 "nbformat": 4,
 "nbformat_minor": 2
}
