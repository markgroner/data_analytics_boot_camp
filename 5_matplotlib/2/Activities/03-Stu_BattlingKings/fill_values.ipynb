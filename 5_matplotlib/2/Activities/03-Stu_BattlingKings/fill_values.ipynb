{
 "cells": [
  {
   "cell_type": "code",
   "execution_count": 1,
   "metadata": {
    "collapsed": true
   },
   "outputs": [],
   "source": [
    "import pandas as pd"
   ]
  },
  {
   "cell_type": "code",
   "execution_count": 2,
   "metadata": {},
   "outputs": [
    {
     "data": {
      "text/plain": [
       "Bob        1\n",
       "Bill       1\n",
       "Barbara    1\n",
       "Blake      1\n",
       "Brandon    1\n",
       "dtype: int64"
      ]
     },
     "execution_count": 2,
     "metadata": {},
     "output_type": "execute_result"
    }
   ],
   "source": [
    "series_1 = pd.Series([1,1,1,1,1], index=[\"Bob\", \"Bill\", \"Barbara\", \"Blake\", \"Brandon\"])\n",
    "series_1"
   ]
  },
  {
   "cell_type": "code",
   "execution_count": 4,
   "metadata": {},
   "outputs": [
    {
     "data": {
      "text/plain": [
       "Bob        1\n",
       "Charlie    1\n",
       "Blake      1\n",
       "Claire     1\n",
       "Bill       1\n",
       "dtype: int64"
      ]
     },
     "execution_count": 4,
     "metadata": {},
     "output_type": "execute_result"
    }
   ],
   "source": [
    "series_2 = pd.Series([1,1,1,1,1], index=[\"Bob\", \"Charlie\", \"Blake\", \"Claire\", \"Bill\"])\n",
    "series_2"
   ]
  },
  {
   "cell_type": "code",
   "execution_count": 5,
   "metadata": {},
   "outputs": [
    {
     "data": {
      "text/plain": [
       "Barbara    NaN\n",
       "Bill       2.0\n",
       "Blake      2.0\n",
       "Bob        2.0\n",
       "Brandon    NaN\n",
       "Charlie    NaN\n",
       "Claire     NaN\n",
       "dtype: float64"
      ]
     },
     "execution_count": 5,
     "metadata": {},
     "output_type": "execute_result"
    }
   ],
   "source": [
    "# Note the NaN values in the resultant Series\n",
    "\n",
    "total_1 = series_1 + series_2\n",
    "total_1"
   ]
  },
  {
   "cell_type": "code",
   "execution_count": 7,
   "metadata": {},
   "outputs": [
    {
     "data": {
      "text/plain": [
       "Barbara    1.0\n",
       "Bill       2.0\n",
       "Blake      2.0\n",
       "Bob        2.0\n",
       "Brandon    1.0\n",
       "Charlie    1.0\n",
       "Claire     1.0\n",
       "dtype: float64"
      ]
     },
     "execution_count": 7,
     "metadata": {},
     "output_type": "execute_result"
    }
   ],
   "source": [
    "# This time, add using .add() and passing in fill_value=0\n",
    "\n",
    "total_2 = series_1.add(series_2, fill_value=0)\n",
    "total_2"
   ]
  },
  {
   "cell_type": "code",
   "execution_count": null,
   "metadata": {
    "collapsed": true
   },
   "outputs": [],
   "source": []
  }
 ],
 "metadata": {
  "kernelspec": {
   "display_name": "Python 3",
   "language": "python",
   "name": "python3"
  },
  "language_info": {
   "codemirror_mode": {
    "name": "ipython",
    "version": 3
   },
   "file_extension": ".py",
   "mimetype": "text/x-python",
   "name": "python",
   "nbconvert_exporter": "python",
   "pygments_lexer": "ipython3",
   "version": "3.6.2"
  }
 },
 "nbformat": 4,
 "nbformat_minor": 2
}
