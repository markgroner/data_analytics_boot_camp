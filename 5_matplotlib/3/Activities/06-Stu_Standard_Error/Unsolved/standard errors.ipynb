{
 "cells": [
  {
   "cell_type": "code",
   "execution_count": 1,
   "metadata": {
    "collapsed": true
   },
   "outputs": [],
   "source": [
    "# Dependencies\n",
    "import matplotlib.pyplot as plt\n",
    "import numpy as np\n",
    "import pandas as pd\n",
    "from scipy.stats import sem\n"
   ]
  },
  {
   "cell_type": "code",
   "execution_count": 2,
   "metadata": {
    "collapsed": true
   },
   "outputs": [],
   "source": [
    "# Read and shuffle data\n",
    "housing_data = pd.read_csv(\"../Resources/housing_data.csv\")\n",
    "housing_data = housing_data.sample(frac=1).reset_index(drop=True)"
   ]
  },
  {
   "cell_type": "code",
   "execution_count": 3,
   "metadata": {
    "collapsed": true
   },
   "outputs": [],
   "source": [
    "# Create a bunch of samples, each with div items\n",
    "div = 20\n",
    "lim = len(housing_data) // div\n",
    "samples = [housing_data.iloc[(i * div):(i * div + div), 13]\n",
    "           for i in range(0, lim)]"
   ]
  },
  {
   "cell_type": "code",
   "execution_count": 4,
   "metadata": {},
   "outputs": [
    {
     "data": {
      "text/plain": [
       "[21.14,\n",
       " 23.595,\n",
       " 19.115000000000002,\n",
       " 22.934999999999995,\n",
       " 23.865000000000002,\n",
       " 18.66,\n",
       " 22.955000000000002,\n",
       " 20.985,\n",
       " 22.495,\n",
       " 24.76,\n",
       " 21.935,\n",
       " 24.500000000000004,\n",
       " 22.43,\n",
       " 24.935,\n",
       " 21.919999999999998,\n",
       " 20.785,\n",
       " 24.099999999999994,\n",
       " 21.095,\n",
       " 23.974999999999994,\n",
       " 25.290000000000003,\n",
       " 22.010000000000005,\n",
       " 17.479999999999997,\n",
       " 25.870000000000005,\n",
       " 23.765,\n",
       " 23.615]"
      ]
     },
     "execution_count": 4,
     "metadata": {},
     "output_type": "execute_result"
    }
   ],
   "source": [
    "means = [np.mean(sample) for sample in samples]\n",
    "means"
   ]
  },
  {
   "cell_type": "code",
   "execution_count": 5,
   "metadata": {},
   "outputs": [
    {
     "data": {
      "text/plain": [
       "[1.0170235209203684,\n",
       " 2.5651661996016841,\n",
       " 1.7328904208074771,\n",
       " 1.9710974100738909,\n",
       " 1.8116766732563103,\n",
       " 1.5324627581977834,\n",
       " 2.3935381760063903,\n",
       " 2.0872328067260932,\n",
       " 1.7072057040056632,\n",
       " 1.7503894303539242,\n",
       " 1.4856023942105812,\n",
       " 2.7326967594205116,\n",
       " 2.4215382236134646,\n",
       " 2.4769917557179588,\n",
       " 2.0920475993377248,\n",
       " 1.333461561816502,\n",
       " 2.390573593358539,\n",
       " 2.1547435431721578,\n",
       " 2.0177485498759045,\n",
       " 2.7253961566213296,\n",
       " 1.7883526674450694,\n",
       " 1.391470256126307,\n",
       " 2.8231850247921275,\n",
       " 2.2739286083317292,\n",
       " 1.4417692895226082]"
      ]
     },
     "execution_count": 5,
     "metadata": {},
     "output_type": "execute_result"
    }
   ],
   "source": [
    "standard_errors = [sem(sample) for sample in samples]\n",
    "standard_errors"
   ]
  },
  {
   "cell_type": "code",
   "execution_count": null,
   "metadata": {
    "collapsed": true
   },
   "outputs": [],
   "source": []
  }
 ],
 "metadata": {
  "kernelspec": {
   "display_name": "Python 3",
   "language": "python",
   "name": "python3"
  },
  "language_info": {
   "codemirror_mode": {
    "name": "ipython",
    "version": 3
   },
   "file_extension": ".py",
   "mimetype": "text/x-python",
   "name": "python",
   "nbconvert_exporter": "python",
   "pygments_lexer": "ipython3",
   "version": "3.6.2"
  }
 },
 "nbformat": 4,
 "nbformat_minor": 2
}
